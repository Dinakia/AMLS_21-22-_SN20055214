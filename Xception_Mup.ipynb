{
 "cells": [
  {
   "cell_type": "code",
   "execution_count": 1,
   "id": "aaefec87-0103-4509-bee5-52691e148d3b",
   "metadata": {},
   "outputs": [],
   "source": [
    "# import libraries\n",
    "import matplotlib.pyplot as plt\n",
    "import numpy as np\n",
    "import os\n",
    "import PIL\n",
    "import tensorflow as tf\n",
    "import pandas as pd\n",
    "import cv2\n",
    "import json\n",
    "\n",
    "from tensorflow import keras\n",
    "from tensorflow.keras import layers, models\n",
    "from tensorflow.keras.models import Sequential\n",
    "from sklearn.model_selection import train_test_split\n",
    "from tensorflow.keras.preprocessing.image import ImageDataGenerator\n",
    "from tensorflow.keras.callbacks import ReduceLROnPlateau,EarlyStopping"
   ]
  },
  {
   "cell_type": "code",
   "execution_count": 2,
   "id": "5896db2e-19a9-4ac8-8230-2ad36b908c3b",
   "metadata": {
    "tags": []
   },
   "outputs": [],
   "source": [
    "# load data\n",
    "all_data= np.load(file=\"alldata_3D.npy\")\n",
    "all_lables=pd.read_csv('label.csv')\n",
    "test_images=np.load(file='testdata_3D.npy')\n",
    "test_lables=pd.read_csv('test_label.csv')\n",
    "\n",
    "# create label multiclassification array \n",
    "labels=[]\n",
    "test_labels=[]\n",
    "for i in range(3000):\n",
    "    data = all_lables['label'][i]\n",
    "    if data == 'no_tumor':\n",
    "        #label.append(data)\n",
    "        labels.append(0)\n",
    "    elif data == 'meningioma_tumor':\n",
    "        #label.append('meningioma_tumor')\n",
    "        labels.append(1)\n",
    "    elif data == 'glioma_tumor':\n",
    "        #label.append('glioma_tumor')\n",
    "        labels.append(2)\n",
    "    elif data == 'pituitary_tumor':\n",
    "        #label.append('pituitary_tumor')\n",
    "        labels.append(3)\n",
    "\n",
    "for i in range(200):\n",
    "    data = test_lables['label'][i]\n",
    "    if data == 'no_tumor':\n",
    "        #label.append(data)\n",
    "        test_labels.append(0)\n",
    "    elif data == 'meningioma_tumor':\n",
    "        #label.append('meningioma_tumor')\n",
    "        test_labels.append(1)\n",
    "    elif data == 'glioma_tumor':\n",
    "        #label.append('glioma_tumor')\n",
    "        test_labels.append(2)\n",
    "    elif data == 'pituitary_tumor':\n",
    "        #label.append('pituitary_tumor')\n",
    "        test_labels.append(3)\n",
    "        \n",
    "labels = np.array(labels)\n",
    "test_labels =np.array(test_labels)"
   ]
  },
  {
   "cell_type": "code",
   "execution_count": 3,
   "id": "b1ff8dba-3014-4771-8813-c8d03555525d",
   "metadata": {},
   "outputs": [],
   "source": [
    "# Normalize the pixel value into a floating-point number between 0 and 1.\n",
    "all_data = np.array(all_data, dtype=\"float\") / 255.0 \n",
    "test_images= np.array(test_images, dtype=\"float\") / 255.0\n",
    "\n",
    "# Direct adjustment of hyperparameter\n",
    "INIT_LR = 0.001\n",
    "EPOCHS = 50\n",
    "BS = 16\n",
    "\n",
    "# Divided into training set and verification set according to 8: 2\n",
    "train_images,val_images,train_labels,val_labels=train_test_split(all_data,labels,test_size=0.2,random_state=0)"
   ]
  },
  {
   "cell_type": "code",
   "execution_count": 4,
   "id": "a69ce358-6be9-4db9-a053-66436966c15f",
   "metadata": {
    "tags": []
   },
   "outputs": [],
   "source": [
    "#Data Augmentation\n",
    "aug=train_image_generator = keras.preprocessing.image.ImageDataGenerator(rotation_range=40,\n",
    "                                            height_shift_range=0.2,\n",
    "                                            zoom_range=0.2,\n",
    "                                            horizontal_flip=True,\n",
    "                                            fill_mode='nearest')"
   ]
  },
  {
   "cell_type": "code",
   "execution_count": 5,
   "id": "00832817-3467-4ff3-b821-7027d9fa865f",
   "metadata": {},
   "outputs": [
    {
     "name": "stdout",
     "output_type": "stream",
     "text": [
      "Model: \"sequential\"\n",
      "_________________________________________________________________\n",
      "Layer (type)                 Output Shape              Param #   \n",
      "=================================================================\n",
      "xception (Functional)        (None, 2048)              20861480  \n",
      "_________________________________________________________________\n",
      "dropout (Dropout)            (None, 2048)              0         \n",
      "_________________________________________________________________\n",
      "dense (Dense)                (None, 4)                 8196      \n",
      "=================================================================\n",
      "Total params: 20,869,676\n",
      "Trainable params: 20,815,148\n",
      "Non-trainable params: 54,528\n",
      "_________________________________________________________________\n"
     ]
    }
   ],
   "source": [
    "#Call the pre-training Xception model\n",
    "covn_base =keras.applications.xception.Xception(include_top=False, weights='imagenet', input_shape=(224,224,3),pooling='avg')\n",
    "\n",
    "#Build a model，use keras function\n",
    "model = tf.keras.Sequential()\n",
    "model.add(covn_base)\n",
    "#model.add(tf.keras.layers.GlobalAveragePooling2D()) \n",
    "#model.add(tf.keras.layers.Dense(units=200,input_dim=784,activation='tanh',kernel_regularizer=l2(0.01)))\n",
    "#model.add(tf.keras.layers.Dense(256, activation='relu'))\n",
    "model.add(tf.keras.layers.Dropout(0.5))\n",
    "model.add(tf.keras.layers.Dense(4, activation='softmax'))\n",
    "model.summary()\n"
   ]
  },
  {
   "cell_type": "code",
   "execution_count": 6,
   "id": "4843503b-c0e8-4840-847d-50175d558ed9",
   "metadata": {
    "tags": []
   },
   "outputs": [
    {
     "name": "stdout",
     "output_type": "stream",
     "text": [
      "Epoch 1/20\n",
      "150/150 [==============================] - 38s 203ms/step - loss: 0.6661 - accuracy: 0.7713 - val_loss: 1.1247 - val_accuracy: 0.6467\n",
      "Epoch 2/20\n",
      "150/150 [==============================] - 29s 191ms/step - loss: 0.4482 - accuracy: 0.8446 - val_loss: 1.3143 - val_accuracy: 0.7250\n",
      "Epoch 3/20\n",
      "150/150 [==============================] - 29s 191ms/step - loss: 0.3195 - accuracy: 0.8908 - val_loss: 0.8687 - val_accuracy: 0.8133\n",
      "Epoch 4/20\n",
      "150/150 [==============================] - 29s 192ms/step - loss: 0.2917 - accuracy: 0.9004 - val_loss: 0.5047 - val_accuracy: 0.8633\n",
      "Epoch 5/20\n",
      "150/150 [==============================] - 29s 191ms/step - loss: 0.2665 - accuracy: 0.9067 - val_loss: 0.7665 - val_accuracy: 0.8283\n",
      "Epoch 6/20\n",
      "150/150 [==============================] - 29s 191ms/step - loss: 0.2172 - accuracy: 0.9233 - val_loss: 0.5659 - val_accuracy: 0.8417\n",
      "\n",
      "Epoch 00006: ReduceLROnPlateau reducing learning rate to 0.00010000000474974513.\n",
      "Epoch 7/20\n",
      "150/150 [==============================] - 29s 191ms/step - loss: 0.1646 - accuracy: 0.9483 - val_loss: 0.2583 - val_accuracy: 0.9117\n",
      "Epoch 8/20\n",
      "150/150 [==============================] - 29s 191ms/step - loss: 0.1185 - accuracy: 0.9608 - val_loss: 0.2018 - val_accuracy: 0.9467\n",
      "Epoch 9/20\n",
      "150/150 [==============================] - 29s 192ms/step - loss: 0.1091 - accuracy: 0.9629 - val_loss: 0.1542 - val_accuracy: 0.9517\n",
      "Epoch 10/20\n",
      "150/150 [==============================] - 29s 190ms/step - loss: 0.0853 - accuracy: 0.9696 - val_loss: 0.1588 - val_accuracy: 0.9533\n",
      "Epoch 11/20\n",
      "150/150 [==============================] - 30s 202ms/step - loss: 0.0792 - accuracy: 0.9742 - val_loss: 0.1280 - val_accuracy: 0.9600\n",
      "Epoch 12/20\n",
      "150/150 [==============================] - 31s 208ms/step - loss: 0.0635 - accuracy: 0.9804 - val_loss: 0.1418 - val_accuracy: 0.9500\n",
      "Epoch 13/20\n",
      "150/150 [==============================] - 31s 206ms/step - loss: 0.0631 - accuracy: 0.9783 - val_loss: 0.1076 - val_accuracy: 0.9700\n",
      "Epoch 14/20\n",
      "150/150 [==============================] - 31s 207ms/step - loss: 0.0442 - accuracy: 0.9867 - val_loss: 0.1495 - val_accuracy: 0.9583\n",
      "Epoch 15/20\n",
      "150/150 [==============================] - 31s 207ms/step - loss: 0.0568 - accuracy: 0.9817 - val_loss: 0.1355 - val_accuracy: 0.9617\n",
      "\n",
      "Epoch 00015: ReduceLROnPlateau reducing learning rate to 1.0000000474974514e-05.\n",
      "Epoch 16/20\n",
      "150/150 [==============================] - 31s 208ms/step - loss: 0.0345 - accuracy: 0.9892 - val_loss: 0.1357 - val_accuracy: 0.9600\n",
      "Epoch 17/20\n",
      "150/150 [==============================] - 31s 208ms/step - loss: 0.0407 - accuracy: 0.9858 - val_loss: 0.1236 - val_accuracy: 0.9650\n",
      "\n",
      "Epoch 00017: ReduceLROnPlateau reducing learning rate to 1e-05.\n",
      "Epoch 18/20\n",
      "150/150 [==============================] - 31s 207ms/step - loss: 0.0390 - accuracy: 0.9887 - val_loss: 0.1260 - val_accuracy: 0.9633\n",
      "Epoch 19/20\n",
      "150/150 [==============================] - 31s 208ms/step - loss: 0.0349 - accuracy: 0.9887 - val_loss: 0.1193 - val_accuracy: 0.9700\n",
      "Epoch 20/20\n",
      "150/150 [==============================] - 31s 208ms/step - loss: 0.0407 - accuracy: 0.9867 - val_loss: 0.1168 - val_accuracy: 0.9700\n"
     ]
    }
   ],
   "source": [
    "#complie and fit model\n",
    "model.compile(optimizer=tf.keras.optimizers.Adam(learning_rate=INIT_LR), loss=tf.keras.losses.SparseCategoricalCrossentropy(from_logits=False),metrics=['accuracy'])\n",
    "\n",
    "#reduce the learning rate when the val_loss doesn't decrease\n",
    "reduce_lr = ReduceLROnPlateau(monitor='val_loss', factor=0.1, patience=2, verbose=1,min_lr=0.01*INIT_LR)\n",
    "history =model.fit(aug.flow(train_images, train_labels, batch_size=BS), epochs=EPOCHS,validation_data=(val_images, val_labels),callbacks=[reduce_lr])"
   ]
  },
  {
   "cell_type": "code",
   "execution_count": 7,
   "id": "35ef8cd0-c14f-499b-a44d-3a453a79c3df",
   "metadata": {},
   "outputs": [
    {
     "data": {
      "image/png": "[encoded data removed]",
      "text/plain": [
       "<Figure size 432x288 with 1 Axes>"
      ]
     },
     "metadata": {
      "needs_background": "light"
     },
     "output_type": "display_data"
    },
    {
     "name": "stdout",
     "output_type": "stream",
     "text": [
      "7/7 [==============================] - 1s 117ms/step - loss: 0.1545 - accuracy: 0.9650\n",
      "0.9649999737739563 0.15446949005126953\n"
     ]
    }
   ],
   "source": [
    "#plot the curse and result\n",
    "plt.plot(history.history['loss'], label='loss')\n",
    "plt.plot(history.history['val_loss'], label='val_loss')\n",
    "plt.plot(history.history['accuracy'], label='accuracy')\n",
    "plt.plot(history.history['val_accuracy'], label = 'val_accuracy')\n",
    "plt.xlabel('Epoch')\n",
    "plt.ylabel('Accuracy/Lose')\n",
    "plt.ylim([0, 2])\n",
    "plt.legend(loc='upper right')\n",
    "plt.show()\n",
    "\n",
    "test_loss, test_acc = model.evaluate(test_images, test_labels, verbose=1)\n",
    "print(test_acc, test_loss)"
   ]
  },
  {
   "cell_type": "code",
   "execution_count": null,
   "id": "ab7b23ba-33ff-4e41-b5b1-de251fa6c586",
   "metadata": {},
   "outputs": [],
   "source": []
  }
 ],
 "metadata": {
  "kernelspec": {
   "display_name": "Python 3 (ipykernel)",
   "language": "python",
   "name": "python3"
  },
  "language_info": {
   "codemirror_mode": {
    "name": "ipython",
    "version": 3
   },
   "file_extension": ".py",
   "mimetype": "text/x-python",
   "name": "python",
   "nbconvert_exporter": "python",
   "pygments_lexer": "ipython3",
   "version": "3.8.12"
  }
 },
 "nbformat": 4,
 "nbformat_minor": 5
}
