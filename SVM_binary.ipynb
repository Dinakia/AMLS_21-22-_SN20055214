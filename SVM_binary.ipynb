{
 "cells": [
  {
   "cell_type": "code",
   "execution_count": 1,
   "id": "51b511d7-2262-4b7e-90e9-11bf47a97dec",
   "metadata": {},
   "outputs": [],
   "source": [
    "# import libraries\n",
    "import matplotlib.pyplot as plt\n",
    "import pickle\n",
    "from sklearn.datasets import make_blobs\n",
    "from sklearn.metrics import accuracy_score\n",
    "from copy import deepcopy\n",
    "import numpy as np\n",
    "import pandas as pd\n",
    "from matplotlib import pyplot as plt\n",
    "from mpl_toolkits.mplot3d import Axes3D\n",
    "from sklearn.preprocessing import StandardScaler\n",
    "from sklearn.decomposition import PCA\n",
    "from sklearn.model_selection import train_test_split\n",
    "from sklearn import svm, datasets\n",
    "from sklearn.svm import SVC\n",
    "from sklearn.utils import shuffle\n",
    "from sklearn.metrics import classification_report,accuracy_score\n",
    "from sklearn.datasets import load_iris\n"
   ]
  },
  {
   "cell_type": "code",
   "execution_count": 2,
   "id": "dd8cc76c-8d4e-4c8f-929c-ec6728072924",
   "metadata": {},
   "outputs": [],
   "source": [
    "# load data\n",
    "train_images= np.load(file=\"alldata_3D.npy\")\n",
    "all_lables=pd.read_csv('label.csv')\n",
    "test_images=np.load(file='testdata_3D.npy')\n",
    "test_lables=pd.read_csv('test_label.csv')\n",
    "\n",
    "# create label binary array \n",
    "train_labels=[]\n",
    "test_labels=[]\n",
    "for i in range(3000):\n",
    "    data = all_lables['label'][i]\n",
    "    if data == 'no_tumor':\n",
    "        #label.append(data)\n",
    "        train_labels.append(0)\n",
    "    else:\n",
    "        #label.append('meningioma_tumor')\n",
    "        train_labels.append(1)\n",
    "train_labels = np.array(train_labels)\n",
    "\n",
    "for i in range(200):\n",
    "    data = test_lables['label'][i]\n",
    "    if data == 'no_tumor':\n",
    "        #label.append(data)\n",
    "        test_labels.append(0)\n",
    "    else:\n",
    "        #label.append('meningioma_tumor')\n",
    "        test_labels.append(1)\n",
    "        \n",
    "train_labels = np.array(train_labels)\n",
    "test_labels =np.array(test_labels)"
   ]
  },
  {
   "cell_type": "code",
   "execution_count": 3,
   "id": "19f2263e-5dba-4b39-be6d-079d4e7f6073",
   "metadata": {},
   "outputs": [],
   "source": [
    "# Normalize the pixel value into a floating-point number between 0 and 1.\n",
    "train_images = np.array(train_images, dtype=\"float\") / 255.0 \n",
    "test_images= np.array(test_images, dtype=\"float\") / 255.0"
   ]
  },
  {
   "cell_type": "code",
   "execution_count": 4,
   "id": "ecfba93a-75f6-47e7-96c6-e8353f708761",
   "metadata": {},
   "outputs": [],
   "source": [
    "#reduce dimension for input, pca and SVM need two dimensions input\n",
    "train_images=np.reshape(train_images,(train_images.shape[0],-1))\n",
    "test_images=np.reshape(test_images,(test_images.shape[0],-1))"
   ]
  },
  {
   "cell_type": "code",
   "execution_count": 5,
   "id": "659d51c4-7979-433e-86a8-f7296f104125",
   "metadata": {},
   "outputs": [
    {
     "data": {
      "text/plain": [
       "(3000, 150528)"
      ]
     },
     "execution_count": 5,
     "metadata": {},
     "output_type": "execute_result"
    }
   ],
   "source": [
    "train_images.shape"
   ]
  },
  {
   "cell_type": "code",
   "execution_count": 6,
   "id": "55c87d0d-cc3c-4c04-ad68-ad910637ad18",
   "metadata": {},
   "outputs": [
    {
     "data": {
      "text/plain": [
       "(3000,)"
      ]
     },
     "execution_count": 6,
     "metadata": {},
     "output_type": "execute_result"
    }
   ],
   "source": [
    "train_labels.shape"
   ]
  },
  {
   "cell_type": "code",
   "execution_count": 7,
   "id": "285e6b7a-49ed-4cc8-af84-9639fb2bc367",
   "metadata": {},
   "outputs": [
    {
     "name": "stdout",
     "output_type": "stream",
     "text": [
      "0.92\n"
     ]
    }
   ],
   "source": [
    "#use SVM linear kernel function from sklrean \n",
    "def SVM(train_images,train_labels, test_images):\n",
    "    #select the kernal function\n",
    "    model=SVC(kernel ='linear')\n",
    "    model.fit(train_images,train_labels)\n",
    "    #make the prediction\n",
    "    y_pred = model.predict(test_images)\n",
    "    return y_pred\n",
    "y_pred=SVM(train_images,train_labels, test_images)\n",
    "print(accuracy_score(test_labels,y_pred))"
   ]
  },
  {
   "cell_type": "code",
   "execution_count": 8,
   "id": "556ed5ea-35e9-4c8f-aa63-f7e45c7be9bf",
   "metadata": {},
   "outputs": [
    {
     "name": "stdout",
     "output_type": "stream",
     "text": [
      "0.935\n"
     ]
    }
   ],
   "source": [
    "#use SVM poly kernel function from sklrean \n",
    "def SVM(train_images,train_labels, test_images):\n",
    "    model=svm.SVC(kernel='poly', degree=3, C=1.0)\n",
    "    model.fit(train_images,train_labels)\n",
    "    y_pred = model.predict(test_images)\n",
    "    return y_pred\n",
    "y_pred=SVM(train_images,train_labels, test_images)\n",
    "print(accuracy_score(test_labels,y_pred))"
   ]
  },
  {
   "cell_type": "code",
   "execution_count": 9,
   "id": "0d26131f-e408-4b85-bf1a-7a2d95304e69",
   "metadata": {},
   "outputs": [
    {
     "name": "stdout",
     "output_type": "stream",
     "text": [
      "0.905\n"
     ]
    }
   ],
   "source": [
    "#use SVM rbf kernel function from sklrean \n",
    "def SVM(train_images,train_labels, test_images):\n",
    "    model=svm.SVC(kernel='rbf', gamma=0.7, C=1.0)\n",
    "    model.fit(train_images,train_labels)\n",
    "    y_pred = model.predict(test_images)\n",
    "    return y_pred\n",
    "y_pred=SVM(train_images,train_labels, test_images)\n",
    "print(accuracy_score(test_labels,y_pred))"
   ]
  },
  {
   "cell_type": "code",
   "execution_count": 10,
   "id": "7a6d8dca-0d8d-4d42-966c-0717c3f4a5b8",
   "metadata": {},
   "outputs": [
    {
     "name": "stdout",
     "output_type": "stream",
     "text": [
      "0.725\n"
     ]
    }
   ],
   "source": [
    "#use SVM sigmoid kernel function from sklrean \n",
    "def SVM(train_images,train_labels, test_images):\n",
    "    model=svm.SVC(kernel='sigmoid')\n",
    "    model.fit(train_images,train_labels)\n",
    "    y_pred = model.predict(test_images)\n",
    "    return y_pred\n",
    "y_pred=SVM(train_images,train_labels, test_images)\n",
    "print(accuracy_score(test_labels,y_pred))"
   ]
  },
  {
   "cell_type": "code",
   "execution_count": null,
   "id": "da76819d-9d45-4e24-8e33-63643fe767ab",
   "metadata": {},
   "outputs": [],
   "source": []
  }
 ],
 "metadata": {
  "kernelspec": {
   "display_name": "Python 3 (ipykernel)",
   "language": "python",
   "name": "python3"
  },
  "language_info": {
   "codemirror_mode": {
    "name": "ipython",
    "version": 3
   },
   "file_extension": ".py",
   "mimetype": "text/x-python",
   "name": "python",
   "nbconvert_exporter": "python",
   "pygments_lexer": "ipython3",
   "version": "3.8.12"
  }
 },
 "nbformat": 4,
 "nbformat_minor": 5
}
