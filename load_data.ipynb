{
 "cells": [
  {
   "cell_type": "code",
   "execution_count": 1,
   "id": "f2b52efb-cb87-45d2-9e1e-ea1da84fcc81",
   "metadata": {},
   "outputs": [],
   "source": [
    "#import packles\n",
    "import numpy as np  \n",
    "import pickle\n",
    "import pandas as pd\n",
    "from matplotlib import pyplot as plt\n",
    "import cv2\n",
    "import os"
   ]
  },
  {
   "cell_type": "code",
   "execution_count": 14,
   "id": "8cea1212-03b9-423d-aa67-0ce784373708",
   "metadata": {},
   "outputs": [
    {
     "name": "stdout",
     "output_type": "stream",
     "text": [
      "image: [[0 0 0 ... 0 0 0]\n",
      " [0 0 0 ... 0 0 0]\n",
      " [0 0 0 ... 0 0 0]\n",
      " ...\n",
      " [0 0 0 ... 0 0 0]\n",
      " [0 0 0 ... 0 0 0]\n",
      " [0 0 0 ... 0 0 0]]\n",
      "<class 'numpy.ndarray'>\n",
      "image.shape: (512, 512)\n"
     ]
    },
    {
     "data": {
      "text/plain": [
       "-1"
      ]
     },
     "execution_count": 14,
     "metadata": {},
     "output_type": "execute_result"
    }
   ],
   "source": [
    "#读取彩色图片，忽略alpha通道\n",
    "image = cv2.imread('dataset/image/IMAGE_0000.jpg',cv2.IMREAD_GRAYSCALE)\n",
    "#打印图片\n",
    "print('image:',image)\n",
    "print(type(image))\n",
    "#打印图片维度形状\n",
    "print('image.shape:',image.shape)\n",
    "#显示图片\n",
    "cv2.imshow('image:',image)\n",
    "#防止图片关闭\n",
    "cv2.waitKey(0)\n",
    "\n"
   ]
  },
  {
   "cell_type": "code",
   "execution_count": 3,
   "id": "b6dd0ddf-a390-419f-81e0-27e908b9f628",
   "metadata": {},
   "outputs": [],
   "source": [
    "alldata = [] # this if for store all of the image data\n",
    "# this function is for read image,the input is directory name\n",
    "def read_directory(directory_name):\n",
    "    # this loop is for read each image in this foder,directory_name is the foder name with images.\n",
    "    for filename in os.listdir(r\"./\"+directory_name):\n",
    "        #print(filename) #just for test\n",
    "        #img is used to store the image data \n",
    "        img = cv2.imread(directory_name + \"/\" + filename,cv2.IMREAD_GRAYSCALE)\n",
    "        alldata.append(img)\n",
    "        #print(img)\n",
    "        #print(alldata)\n"
   ]
  },
  {
   "cell_type": "code",
   "execution_count": 4,
   "id": "d8a5faeb-7eec-45aa-9142-dae84ac28971",
   "metadata": {},
   "outputs": [],
   "source": [
    "read_directory(\"dataset/image1\")\n",
    "#print(type(alldata))\n",
    "#alldata=np.array(alldata)\n",
    "#alldata.shape"
   ]
  },
  {
   "cell_type": "code",
   "execution_count": 5,
   "id": "643f8700-6f7d-492d-a3d1-423a3e86bd62",
   "metadata": {},
   "outputs": [
    {
     "name": "stdout",
     "output_type": "stream",
     "text": [
      "(3000, 512, 512)\n"
     ]
    }
   ],
   "source": [
    "npdata=np.array(alldata)\n",
    "print(npdata.shape)\n",
    "#print(a)"
   ]
  },
  {
   "cell_type": "code",
   "execution_count": 6,
   "id": "c15ac24e-a8f4-45bd-a2d6-e55d0fdbc084",
   "metadata": {},
   "outputs": [],
   "source": [
    "np.save(file=\"alldata.npy\", arr=npdata)"
   ]
  },
  {
   "cell_type": "code",
   "execution_count": 7,
   "id": "ef861d2b-cfa8-4e7a-ab7f-5973fd9f3ca9",
   "metadata": {},
   "outputs": [
    {
     "data": {
      "text/plain": [
       "(3000, 512, 512)"
      ]
     },
     "execution_count": 7,
     "metadata": {},
     "output_type": "execute_result"
    }
   ],
   "source": [
    "b= np.load(file=\"alldata.npy\")\n",
    "b.shape"
   ]
  },
  {
   "cell_type": "code",
   "execution_count": 16,
   "id": "ad709f55-2252-4e8c-bbf5-9e0ddcd69b2c",
   "metadata": {},
   "outputs": [
    {
     "name": "stdout",
     "output_type": "stream",
     "text": [
      "[[0 0 0 ... 0 0 0]\n",
      " [0 0 0 ... 0 0 0]\n",
      " [0 0 0 ... 0 0 0]\n",
      " ...\n",
      " [0 0 0 ... 0 0 0]\n",
      " [0 0 0 ... 0 0 0]\n",
      " [0 0 0 ... 0 0 0]]\n"
     ]
    }
   ],
   "source": [
    "print(b[0, ::])"
   ]
  },
  {
   "cell_type": "code",
   "execution_count": 17,
   "id": "9c7578ca-e87f-4fd6-ac70-dc43814d047b",
   "metadata": {},
   "outputs": [
    {
     "data": {
      "text/plain": [
       "-1"
      ]
     },
     "execution_count": 17,
     "metadata": {},
     "output_type": "execute_result"
    }
   ],
   "source": [
    "image3=b[3,::]\n",
    "cv2.imshow('image:',image3)\n",
    "#防止图片关闭\n",
    "cv2.waitKey(0)"
   ]
  },
  {
   "cell_type": "code",
   "execution_count": null,
   "id": "7919aa7a-3d57-402d-917c-fcad5d189a91",
   "metadata": {},
   "outputs": [],
   "source": []
  }
 ],
 "metadata": {
  "kernelspec": {
   "display_name": "Python 3 (ipykernel)",
   "language": "python",
   "name": "python3"
  },
  "language_info": {
   "codemirror_mode": {
    "name": "ipython",
    "version": 3
   },
   "file_extension": ".py",
   "mimetype": "text/x-python",
   "name": "python",
   "nbconvert_exporter": "python",
   "pygments_lexer": "ipython3",
   "version": "3.8.12"
  }
 },
 "nbformat": 4,
 "nbformat_minor": 5
}
