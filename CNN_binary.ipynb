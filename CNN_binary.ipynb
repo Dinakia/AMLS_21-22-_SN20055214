{
 "cells": [
  {
   "cell_type": "code",
   "execution_count": 1,
   "id": "aaefec87-0103-4509-bee5-52691e148d3b",
   "metadata": {},
   "outputs": [],
   "source": [
    "import matplotlib.pyplot as plt\n",
    "import numpy as np\n",
    "import os\n",
    "import PIL\n",
    "import tensorflow as tf\n",
    "import pandas as pd\n",
    "import cv2\n",
    "\n",
    "from tensorflow import keras\n",
    "from tensorflow.keras import layers, models\n",
    "from tensorflow.keras.models import Sequential\n",
    "from sklearn.model_selection import train_test_split"
   ]
  },
  {
   "cell_type": "code",
   "execution_count": 2,
   "id": "5896db2e-19a9-4ac8-8230-2ad36b908c3b",
   "metadata": {},
   "outputs": [],
   "source": [
    "alldata= np.load(file=\"alldata.npy\")\n",
    "alllable=pd.read_csv('label_binary.csv')\n",
    "label=[]\n",
    "for i in range(3000):\n",
    "    data = alllable['label'][i]\n",
    "    if data == 'no_tumor':\n",
    "        #label.append(data)\n",
    "        label.append(0)\n",
    "    else:\n",
    "        #label.append('meningioma_tumor')\n",
    "        label.append(1)\n",
    "label = np.array(label)\n",
    "#按照6：2：2的结构来分成训练集，测试集和验证集\n",
    "train_images,test_images,train_labels,test_labels=train_test_split(alldata,label,test_size=0.2,random_state=0)\n",
    "train_images,val_images,train_labels,val_labels=train_test_split(train_images,train_labels,test_size=0.25,random_state=0)"
   ]
  },
  {
   "cell_type": "code",
   "execution_count": 3,
   "id": "f3703abe-bb4e-4a20-8c89-2657449e58d8",
   "metadata": {},
   "outputs": [
    {
     "data": {
      "text/plain": [
       "array([1, 0, 1, ..., 1, 1, 1])"
      ]
     },
     "execution_count": 3,
     "metadata": {},
     "output_type": "execute_result"
    }
   ],
   "source": [
    "label"
   ]
  },
  {
   "cell_type": "code",
   "execution_count": 4,
   "id": "1e6c8637-7bcc-4848-a72e-e4352a07140d",
   "metadata": {},
   "outputs": [],
   "source": [
    "class_names1 = ['tumor','no_tumor']"
   ]
  },
  {
   "cell_type": "code",
   "execution_count": 5,
   "id": "646ce5ac-ac2b-4718-b3ba-3787225553aa",
   "metadata": {},
   "outputs": [
    {
     "name": "stdout",
     "output_type": "stream",
     "text": [
      "Model: \"sequential\"\n",
      "_________________________________________________________________\n",
      "Layer (type)                 Output Shape              Param #   \n",
      "=================================================================\n",
      "conv2d (Conv2D)              (None, 204, 204, 32)      320       \n",
      "_________________________________________________________________\n",
      "max_pooling2d (MaxPooling2D) (None, 102, 102, 32)      0         \n",
      "_________________________________________________________________\n",
      "conv2d_1 (Conv2D)            (None, 102, 102, 64)      18496     \n",
      "_________________________________________________________________\n",
      "conv2d_2 (Conv2D)            (None, 102, 102, 64)      36928     \n",
      "_________________________________________________________________\n",
      "max_pooling2d_1 (MaxPooling2 (None, 51, 51, 64)        0         \n",
      "_________________________________________________________________\n",
      "conv2d_3 (Conv2D)            (None, 51, 51, 128)       73856     \n",
      "_________________________________________________________________\n",
      "conv2d_4 (Conv2D)            (None, 51, 51, 128)       147584    \n",
      "_________________________________________________________________\n",
      "max_pooling2d_2 (MaxPooling2 (None, 25, 25, 128)       0         \n",
      "_________________________________________________________________\n",
      "flatten (Flatten)            (None, 80000)             0         \n",
      "_________________________________________________________________\n",
      "dense (Dense)                (None, 128)               10240128  \n",
      "_________________________________________________________________\n",
      "dropout (Dropout)            (None, 128)               0         \n",
      "_________________________________________________________________\n",
      "dense_1 (Dense)              (None, 64)                8256      \n",
      "_________________________________________________________________\n",
      "dropout_1 (Dropout)          (None, 64)                0         \n",
      "_________________________________________________________________\n",
      "dense_2 (Dense)              (None, 2)                 130       \n",
      "=================================================================\n",
      "Total params: 10,525,698\n",
      "Trainable params: 10,525,698\n",
      "Non-trainable params: 0\n",
      "_________________________________________________________________\n"
     ]
    }
   ],
   "source": [
    "model = models.Sequential([\n",
    "  layers.Conv2D(32, kernel_size=3, padding='same', activation='relu', input_shape=(204,204,1)),\n",
    "  layers.MaxPooling2D(pool_size=2),\n",
    "  layers.Conv2D(64, kernel_size=3, padding='same', activation='relu'),\n",
    "  layers.Conv2D(64, kernel_size=3, padding='same', activation='relu'),\n",
    "  layers.MaxPooling2D(pool_size=2),\n",
    "  layers.Conv2D(128, kernel_size=3, padding='same', activation='relu'),\n",
    "  layers.Conv2D(128, kernel_size=3, padding='same', activation='relu'),\n",
    "  layers.MaxPooling2D(pool_size=2),\n",
    "  layers.Flatten(),\n",
    "  layers.Dense(units=128, activation='relu'),\n",
    "  layers.Dropout(0.5),\n",
    "  layers.Dense(units=64, activation='relu'),\n",
    "  layers.Dropout(0.5),\n",
    "  layers.Dense(2, activation=\"sigmoid\") #, activation=\"sigmoid\"\n",
    "]) \n",
    "model.summary()\n",
    "#from_logits=True 表示 crossEntropy 层的输入是正常的张量/logits，而如果 from_logits=False，则表示输入是一个概率，通常你应该在最后一层有一些 softmax 激活"
   ]
  },
  {
   "cell_type": "code",
   "execution_count": 6,
   "id": "4843503b-c0e8-4840-847d-50175d558ed9",
   "metadata": {
    "tags": []
   },
   "outputs": [
    {
     "name": "stdout",
     "output_type": "stream",
     "text": [
      "Epoch 1/15\n",
      "57/57 [==============================] - 6s 56ms/step - loss: 1.4360 - accuracy: 0.8244 - val_loss: 0.3643 - val_accuracy: 0.8517\n",
      "Epoch 2/15\n",
      "57/57 [==============================] - 2s 41ms/step - loss: 0.3456 - accuracy: 0.8544 - val_loss: 0.2865 - val_accuracy: 0.8600\n",
      "Epoch 3/15\n",
      "57/57 [==============================] - 2s 41ms/step - loss: 0.2845 - accuracy: 0.8733 - val_loss: 0.2468 - val_accuracy: 0.8783\n",
      "Epoch 4/15\n",
      "57/57 [==============================] - 2s 41ms/step - loss: 0.2239 - accuracy: 0.8906 - val_loss: 0.1993 - val_accuracy: 0.9017\n",
      "Epoch 5/15\n",
      "57/57 [==============================] - 2s 41ms/step - loss: 0.1866 - accuracy: 0.9194 - val_loss: 0.1930 - val_accuracy: 0.9150\n",
      "Epoch 6/15\n",
      "57/57 [==============================] - 2s 41ms/step - loss: 0.1810 - accuracy: 0.9250 - val_loss: 0.2635 - val_accuracy: 0.8900\n",
      "Epoch 7/15\n",
      "57/57 [==============================] - 2s 41ms/step - loss: 0.1515 - accuracy: 0.9328 - val_loss: 0.1960 - val_accuracy: 0.9200\n",
      "Epoch 8/15\n",
      "57/57 [==============================] - 2s 41ms/step - loss: 0.1556 - accuracy: 0.9356 - val_loss: 0.1908 - val_accuracy: 0.9083\n",
      "Epoch 9/15\n",
      "57/57 [==============================] - 2s 41ms/step - loss: 0.1248 - accuracy: 0.9522 - val_loss: 0.2158 - val_accuracy: 0.9250\n",
      "Epoch 10/15\n",
      "57/57 [==============================] - 2s 41ms/step - loss: 0.1257 - accuracy: 0.9489 - val_loss: 0.1976 - val_accuracy: 0.9133\n",
      "Epoch 11/15\n",
      "57/57 [==============================] - 2s 41ms/step - loss: 0.1683 - accuracy: 0.9322 - val_loss: 0.2191 - val_accuracy: 0.9033\n",
      "Epoch 12/15\n",
      "57/57 [==============================] - 2s 41ms/step - loss: 0.1394 - accuracy: 0.9478 - val_loss: 0.2566 - val_accuracy: 0.8833\n",
      "Epoch 13/15\n",
      "57/57 [==============================] - 2s 41ms/step - loss: 0.1103 - accuracy: 0.9567 - val_loss: 0.1696 - val_accuracy: 0.9317\n",
      "Epoch 14/15\n",
      "57/57 [==============================] - 2s 41ms/step - loss: 0.0790 - accuracy: 0.9678 - val_loss: 0.1664 - val_accuracy: 0.9467\n",
      "Epoch 15/15\n",
      "57/57 [==============================] - 2s 41ms/step - loss: 0.0634 - accuracy: 0.9761 - val_loss: 0.1808 - val_accuracy: 0.9400\n"
     ]
    }
   ],
   "source": [
    "train_images = train_images.reshape((1800, 204, 204, 1))\n",
    "test_images=test_images.reshape((600, 204, 204, 1))\n",
    "val_images=test_images.reshape((600, 204, 204, 1))\n",
    "model.compile(optimizer='adam', loss=tf.keras.losses.SparseCategoricalCrossentropy(from_logits=False),metrics=['accuracy'])\n",
    "#epoch 迭代次数\n",
    "history =model.fit(train_images, train_labels, batch_size=32, epochs=15, validation_data=(test_images, test_labels))"
   ]
  },
  {
   "cell_type": "code",
   "execution_count": 7,
   "id": "35ef8cd0-c14f-499b-a44d-3a453a79c3df",
   "metadata": {},
   "outputs": [
    {
     "data": {
      "image/png": "[encoded data removed]",
      "text/plain": [
       "<Figure size 432x288 with 1 Axes>"
      ]
     },
     "metadata": {
      "needs_background": "light"
     },
     "output_type": "display_data"
    },
    {
     "name": "stdout",
     "output_type": "stream",
     "text": [
      "19/19 - 0s - loss: 2.0125 - accuracy: 0.7533\n",
      "0.753333330154419\n"
     ]
    }
   ],
   "source": [
    "plt.plot(history.history['accuracy'], label='accuracy')\n",
    "plt.plot(history.history['val_accuracy'], label = 'val_accuracy')\n",
    "plt.xlabel('Epoch')\n",
    "plt.ylabel('Accuracy')\n",
    "plt.ylim([0.5, 1])\n",
    "plt.legend(loc='lower right')\n",
    "plt.show()\n",
    "\n",
    "test_loss, test_acc = model.evaluate(val_images, val_labels, verbose=2)\n",
    "print(test_acc)"
   ]
  },
  {
   "cell_type": "code",
   "execution_count": null,
   "id": "27f8b0ba-6492-4ee4-a417-ed55ab9e40be",
   "metadata": {},
   "outputs": [],
   "source": []
  }
 ],
 "metadata": {
  "kernelspec": {
   "display_name": "Python 3 (ipykernel)",
   "language": "python",
   "name": "python3"
  },
  "language_info": {
   "codemirror_mode": {
    "name": "ipython",
    "version": 3
   },
   "file_extension": ".py",
   "mimetype": "text/x-python",
   "name": "python",
   "nbconvert_exporter": "python",
   "pygments_lexer": "ipython3",
   "version": "3.8.12"
  }
 },
 "nbformat": 4,
 "nbformat_minor": 5
}
