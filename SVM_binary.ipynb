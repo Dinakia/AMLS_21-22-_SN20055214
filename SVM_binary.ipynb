{
 "cells": [
  {
   "cell_type": "code",
   "execution_count": 1,
   "id": "51b511d7-2262-4b7e-90e9-11bf47a97dec",
   "metadata": {},
   "outputs": [],
   "source": [
    "# import libraries\n",
    "import matplotlib.pyplot as plt\n",
    "import pickle\n",
    "from sklearn.datasets import make_blobs\n",
    "from sklearn.metrics import accuracy_score\n",
    "from copy import deepcopy\n",
    "import numpy as np\n",
    "import pandas as pd\n",
    "from matplotlib import pyplot as plt\n",
    "from mpl_toolkits.mplot3d import Axes3D\n",
    "from sklearn.preprocessing import StandardScaler\n",
    "from sklearn.decomposition import PCA\n",
    "from sklearn.model_selection import train_test_split\n",
    "from sklearn import svm, datasets\n",
    "from sklearn.svm import SVC\n",
    "from sklearn.utils import shuffle\n",
    "from sklearn.metrics import classification_report,accuracy_score\n",
    "from sklearn.datasets import load_iris\n"
   ]
  },
  {
   "cell_type": "code",
   "execution_count": 2,
   "id": "dd8cc76c-8d4e-4c8f-929c-ec6728072924",
   "metadata": {},
   "outputs": [],
   "source": [
    "alldata= np.load(file=\"alldata.npy\")\n",
    "alllable=pd.read_csv('label_binary.csv')\n",
    "label=[]\n",
    "for i in range(3000):\n",
    "    data = alllable['label'][i]\n",
    "    if data == 'no_tumor':\n",
    "        #label.append(data)\n",
    "        label.append(0)\n",
    "    else:\n",
    "        #label.append('meningioma_tumor')\n",
    "        label.append(1)\n",
    "label = np.array(label)\n",
    "#按照7：3的结构来分成训练集，测试集\n",
    "train_images,test_images,train_labels,test_labels=train_test_split(alldata,label,random_state=0)"
   ]
  },
  {
   "cell_type": "code",
   "execution_count": 3,
   "id": "ecfba93a-75f6-47e7-96c6-e8353f708761",
   "metadata": {},
   "outputs": [],
   "source": [
    "#pca输入需要二维，所以三维降二维，前一维度不变，后两个维度合并\n",
    "alldata=np.reshape(alldata,(alldata.shape[0],-1))\n",
    "train_images=np.reshape(train_images,(train_images.shape[0],-1))\n",
    "test_images=np.reshape(test_images,(test_images.shape[0],-1))"
   ]
  },
  {
   "cell_type": "code",
   "execution_count": 4,
   "id": "1892e904-cf87-4d66-85d2-cbb98fc9abad",
   "metadata": {},
   "outputs": [
    {
     "data": {
      "text/plain": [
       "'def PCAPredict(X, k):\\n    \\n    # the bulit-in function for PCA,\\n    # where n_clusters is the number of clusters.\\n    pca = PCA(n_components=k)\\n    #transform(): 从fit()方法生成的参数，应用于模型以生成转换后的数据集\\n    # fit the algorithm with dataset\\n    X=pca.fit_transform(X)\\n    Vcomp = pca.n_components_\\n    \\n    #Variance = pca.explained_variance_ratio_\\n    #SValue = pca.singular_values_\\n    \\n    return X,Vcomp\\n\\n# run PCA for different values of k, which is 3 in following case\\nk1 = 0.98\\nalldata,Vcomp=PCAPredict(alldata,k1)\\ntrain_images,test_images,train_labels,test_labels=train_test_split(alldata,label,random_state=0)'"
      ]
     },
     "execution_count": 4,
     "metadata": {},
     "output_type": "execute_result"
    }
   ],
   "source": [
    "# sklearn functions implementation\n",
    "'''def PCAPredict(X, k):\n",
    "    \n",
    "    # the bulit-in function for PCA,\n",
    "    # where n_clusters is the number of clusters.\n",
    "    pca = PCA(n_components=k)\n",
    "    #transform(): 从fit()方法生成的参数，应用于模型以生成转换后的数据集\n",
    "    # fit the algorithm with dataset\n",
    "    X=pca.fit_transform(X)\n",
    "    Vcomp = pca.n_components_\n",
    "    \n",
    "    #Variance = pca.explained_variance_ratio_\n",
    "    #SValue = pca.singular_values_\n",
    "    \n",
    "    return X,Vcomp\n",
    "\n",
    "# run PCA for different values of k, which is 3 in following case\n",
    "k1 = 0.98\n",
    "alldata,Vcomp=PCAPredict(alldata,k1)\n",
    "train_images,test_images,train_labels,test_labels=train_test_split(alldata,label,random_state=0)'''"
   ]
  },
  {
   "cell_type": "code",
   "execution_count": 5,
   "id": "659d51c4-7979-433e-86a8-f7296f104125",
   "metadata": {},
   "outputs": [
    {
     "data": {
      "text/plain": [
       "(3000, 41616)"
      ]
     },
     "execution_count": 5,
     "metadata": {},
     "output_type": "execute_result"
    }
   ],
   "source": [
    "alldata.shape"
   ]
  },
  {
   "cell_type": "code",
   "execution_count": 6,
   "id": "285e6b7a-49ed-4cc8-af84-9639fb2bc367",
   "metadata": {},
   "outputs": [
    {
     "name": "stdout",
     "output_type": "stream",
     "text": [
      "0.9133333333333333\n"
     ]
    }
   ],
   "source": [
    "def SVM(train_images,train_labels, test_images):\n",
    "    #model = ...\n",
    "    model=SVC(kernel ='linear')\n",
    "    model.fit(train_images,train_labels)\n",
    "    #model.  #fit using x_train and y_train\n",
    "    y_pred = model.predict(test_images)\n",
    "    return y_pred\n",
    "# Scikit learn library results\n",
    "y_pred=SVM(train_images,train_labels, test_images)\n",
    "print(accuracy_score(test_labels,y_pred))"
   ]
  },
  {
   "cell_type": "code",
   "execution_count": 7,
   "id": "556ed5ea-35e9-4c8f-aa63-f7e45c7be9bf",
   "metadata": {},
   "outputs": [
    {
     "name": "stdout",
     "output_type": "stream",
     "text": [
      "0.9173333333333333\n"
     ]
    }
   ],
   "source": [
    "def SVM(train_images,train_labels, test_images):\n",
    "    #model = ...\n",
    "    model=svm.SVC(kernel='poly', degree=3, C=1.0)\n",
    "    model.fit(train_images,train_labels)\n",
    "    #model.  #fit using x_train and y_train\n",
    "    y_pred = model.predict(test_images)\n",
    "    return y_pred\n",
    "# Scikit learn library results\n",
    "y_pred=SVM(train_images,train_labels, test_images)\n",
    "print(accuracy_score(test_labels,y_pred))"
   ]
  },
  {
   "cell_type": "code",
   "execution_count": 8,
   "id": "0d26131f-e408-4b85-bf1a-7a2d95304e69",
   "metadata": {},
   "outputs": [
    {
     "name": "stdout",
     "output_type": "stream",
     "text": [
      "0.9\n"
     ]
    }
   ],
   "source": [
    "def SVM(train_images,train_labels, test_images):\n",
    "    #model = ...\n",
    "    model=svm.SVC(kernel='rbf', gamma=0.7, C=1.0)\n",
    "    model.fit(train_images,train_labels)\n",
    "    #model.  #fit using x_train and y_train\n",
    "    y_pred = model.predict(test_images)\n",
    "    return y_pred\n",
    "# Scikit learn library results\n",
    "y_pred=SVM(train_images,train_labels, test_images)\n",
    "print(accuracy_score(test_labels,y_pred))"
   ]
  }
 ],
 "metadata": {
  "kernelspec": {
   "display_name": "Python 3 (ipykernel)",
   "language": "python",
   "name": "python3"
  },
  "language_info": {
   "codemirror_mode": {
    "name": "ipython",
    "version": 3
   },
   "file_extension": ".py",
   "mimetype": "text/x-python",
   "name": "python",
   "nbconvert_exporter": "python",
   "pygments_lexer": "ipython3",
   "version": "3.8.12"
  }
 },
 "nbformat": 4,
 "nbformat_minor": 5
}
