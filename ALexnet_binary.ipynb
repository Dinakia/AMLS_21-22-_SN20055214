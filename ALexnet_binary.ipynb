{
 "cells": [
  {
   "cell_type": "code",
   "execution_count": 1,
   "id": "aaefec87-0103-4509-bee5-52691e148d3b",
   "metadata": {},
   "outputs": [],
   "source": [
    "import matplotlib.pyplot as plt\n",
    "import numpy as np\n",
    "import os\n",
    "import PIL\n",
    "import tensorflow as tf\n",
    "import pandas as pd\n",
    "import cv2\n",
    "\n",
    "from tensorflow import keras\n",
    "from tensorflow.keras import layers, models\n",
    "from tensorflow.keras.models import Sequential\n",
    "from sklearn.model_selection import train_test_split\n",
    "from tensorflow.keras.preprocessing.image import ImageDataGenerator\n",
    "\n",
    "#目前问题：尝试LRN的实现；以及目前的效果都很不好，需要考虑使用数据增强，如果仍然不行的话就要换网络，试试VGG的效果\n",
    "#另一个问题是使用binary_crossentropy二分类交叉熵会报错，目前只能用多分类的，不知道这个问题解决能不能提高成功率\n",
    "#了解one-hot编码，应用随机增强\n",
    "#原来灰度图不是只有0和1啊卧槽，我还需要进行标准化，这是个关键问题，和数据增强一起\n",
    "#目前对于数据集，验证集和测试集的思路有点混乱，明明val_accruate挺高的，但是结果就很低，为什么很奇怪，我怀疑是我哪里出线错误了？？？？\n",
    "#目前先尝试直接调用官方的结构进行处理，如果也不行说明不是神经网络的问题，是我的设置有问题\n",
    "#图片格式要改成224，224，尝试一下"
   ]
  },
  {
   "cell_type": "code",
   "execution_count": 2,
   "id": "5896db2e-19a9-4ac8-8230-2ad36b908c3b",
   "metadata": {
    "jupyter": {
     "source_hidden": true
    },
    "tags": []
   },
   "outputs": [],
   "source": [
    "alldata= np.load(file=\"alldata.npy\")\n",
    "alllable=pd.read_csv('label_binary.csv')\n",
    "label=[]\n",
    "for i in range(3000):\n",
    "    data = alllable['label'][i]\n",
    "    if data == 'no_tumor':\n",
    "        #label.append(data)\n",
    "        label.append(0)\n",
    "    else:\n",
    "        #label.append('meningioma_tumor')\n",
    "        label.append(1)\n",
    "label = np.array(label)\n",
    "#按照6：2：2的结构来分成训练集，测试集和验证集\n",
    "train_images,test_images,train_labels,test_labels=train_test_split(alldata,label,test_size=0.2,random_state=0)\n",
    "train_images,val_images,train_labels,val_labels=train_test_split(train_images,train_labels,test_size=0.25,random_state=0)"
   ]
  },
  {
   "cell_type": "code",
   "execution_count": 3,
   "id": "f3703abe-bb4e-4a20-8c89-2657449e58d8",
   "metadata": {},
   "outputs": [
    {
     "data": {
      "text/plain": [
       "array([[ 30,  33,  35, ...,  29,  22, 100],\n",
       "       [  1,   2,   4, ...,   2,   0,  70],\n",
       "       [  2,   3,   3, ...,   4,   1,  73],\n",
       "       ...,\n",
       "       [  1,   2,   1, ...,   1,   0,  73],\n",
       "       [  2,   3,   2, ...,   4,   1,  76],\n",
       "       [  3,   4,   3, ...,   1,   0,  78]], dtype=uint8)"
      ]
     },
     "execution_count": 3,
     "metadata": {},
     "output_type": "execute_result"
    }
   ],
   "source": [
    "alldata[1]"
   ]
  },
  {
   "cell_type": "code",
   "execution_count": 4,
   "id": "1e6c8637-7bcc-4848-a72e-e4352a07140d",
   "metadata": {},
   "outputs": [],
   "source": [
    "class_names1 = ['tumor','no_tumor']"
   ]
  },
  {
   "cell_type": "code",
   "execution_count": 5,
   "id": "a69ce358-6be9-4db9-a053-66436966c15f",
   "metadata": {},
   "outputs": [],
   "source": [
    "train_image_generator = keras.preprocessing.image.ImageDataGenerator(rescale=1./255,rotation_range=40,width_shift_range=0.2,height_shift_range=0.2,zoom_range=0.2,\n",
    "horizontal_flip=True,fill_mode='nearest')"
   ]
  },
  {
   "cell_type": "code",
   "execution_count": 6,
   "id": "89520321-906d-455e-ad48-8b8554346972",
   "metadata": {},
   "outputs": [
    {
     "data": {
      "text/plain": [
       "(3000, 204, 204)"
      ]
     },
     "execution_count": 6,
     "metadata": {},
     "output_type": "execute_result"
    }
   ],
   "source": [
    "alldata.shape"
   ]
  },
  {
   "cell_type": "code",
   "execution_count": 7,
   "id": "a858c382-982f-4ae2-be43-8294ff8fa133",
   "metadata": {},
   "outputs": [],
   "source": [
    "class LRN(keras.layers.Layer):\n",
    "    def __init__(self):\n",
    "        super(LRN, self).__init__()\n",
    "        self.depth_radius=2\n",
    "        self.bias=1\n",
    "        self.alpha=1e-4\n",
    "        self.beta=0.75\n",
    "    def call(self,x):\n",
    "        return tf.nn.lrn(x,depth_radius=self.depth_radius,\n",
    "                         bias=self.bias,alpha=self.alpha,\n",
    "                         beta=self.beta)"
   ]
  },
  {
   "cell_type": "code",
   "execution_count": 8,
   "id": "646ce5ac-ac2b-4718-b3ba-3787225553aa",
   "metadata": {},
   "outputs": [
    {
     "name": "stdout",
     "output_type": "stream",
     "text": [
      "Model: \"sequential\"\n",
      "_________________________________________________________________\n",
      "Layer (type)                 Output Shape              Param #   \n",
      "=================================================================\n",
      "conv2d (Conv2D)              (None, 51, 51, 96)        11712     \n",
      "_________________________________________________________________\n",
      "max_pooling2d (MaxPooling2D) (None, 25, 25, 96)        0         \n",
      "_________________________________________________________________\n",
      "lrn (LRN)                    (None, 25, 25, 96)        0         \n",
      "_________________________________________________________________\n",
      "conv2d_1 (Conv2D)            (None, 25, 25, 256)       614656    \n",
      "_________________________________________________________________\n",
      "max_pooling2d_1 (MaxPooling2 (None, 12, 12, 256)       0         \n",
      "_________________________________________________________________\n",
      "lrn_1 (LRN)                  (None, 12, 12, 256)       0         \n",
      "_________________________________________________________________\n",
      "conv2d_2 (Conv2D)            (None, 12, 12, 384)       885120    \n",
      "_________________________________________________________________\n",
      "conv2d_3 (Conv2D)            (None, 12, 12, 384)       1327488   \n",
      "_________________________________________________________________\n",
      "conv2d_4 (Conv2D)            (None, 12, 12, 256)       884992    \n",
      "_________________________________________________________________\n",
      "max_pooling2d_2 (MaxPooling2 (None, 5, 5, 256)         0         \n",
      "_________________________________________________________________\n",
      "flatten (Flatten)            (None, 6400)              0         \n",
      "_________________________________________________________________\n",
      "dense (Dense)                (None, 4096)              26218496  \n",
      "_________________________________________________________________\n",
      "dropout (Dropout)            (None, 4096)              0         \n",
      "_________________________________________________________________\n",
      "dense_1 (Dense)              (None, 4096)              16781312  \n",
      "_________________________________________________________________\n",
      "dropout_1 (Dropout)          (None, 4096)              0         \n",
      "_________________________________________________________________\n",
      "dense_2 (Dense)              (None, 1000)              4097000   \n",
      "=================================================================\n",
      "Total params: 50,820,776\n",
      "Trainable params: 50,820,776\n",
      "Non-trainable params: 0\n",
      "_________________________________________________________________\n"
     ]
    }
   ],
   "source": [
    "#conv1+pool1+lrn1-->conv2+pool2+lrn2-->conv3-->conv4-->conv5+pool5-->fc1-->fc2-->fc3 Alexnet\n",
    "model = keras.models.Sequential()\n",
    "model.add(keras.layers.Conv2D(filters=96, kernel_size=(11,11),strides=4,activation='relu',padding='same',input_shape=(204,204,1)))\n",
    "model.add(keras.layers.MaxPool2D(pool_size=(3,3),strides=2))\n",
    "model.add(LRN())\n",
    "model.add(keras.layers.Conv2D(filters=256,kernel_size=(5,5),strides=1,activation='relu',padding='same'))\n",
    "model.add(keras.layers.MaxPool2D(pool_size=(3,3),strides=2))\n",
    "model.add(LRN())\n",
    "model.add(keras.layers.Conv2D(filters=384,kernel_size=(3,3),strides=1,activation='relu',padding='same'))\n",
    "model.add(keras.layers.Conv2D(filters=384,kernel_size=(3,3),strides=1,activation='relu',padding='same'))\n",
    "model.add(keras.layers.Conv2D(filters=256,kernel_size=(3,3),strides=1,activation='relu',padding='same'))\n",
    "model.add(keras.layers.MaxPool2D(pool_size=(3,3),strides=2))\n",
    "model.add(keras.layers.Flatten())\n",
    "model.add(keras.layers.Dense(4096,activation='relu'))\n",
    "model.add(keras.layers.Dropout(0.5))\n",
    "model.add(keras.layers.Dense(4096,activation='relu'))\n",
    "model.add(keras.layers.Dropout(0.5))\n",
    "model.add(keras.layers.Dense(1000,activation=\"softmax\"))\n",
    "model.summary()\n",
    "#在 input_shape 中不包含数据的 batch 大小。\n",
    "#model.get_config() 返回包含模型配置信息的字典。\n",
    "#from_logits=True 表示 crossEntropy 层的输入是正常的张量/logits，而如果 from_logits=False，则表示输入是一个概率，通常你应该在最后一层有一些 softmax 激活"
   ]
  },
  {
   "cell_type": "code",
   "execution_count": 9,
   "id": "92003246-de6e-44d2-99ed-f7bb341a02d1",
   "metadata": {},
   "outputs": [
    {
     "data": {
      "text/plain": [
       "\"model = keras.models.Sequential()  #VGG\\nmodel.add(keras.layers.Conv2D(32, (3, 3), activation='relu', input_shape=(204,204,1)))\\nmodel.add(keras.layers.Conv2D(32, (3, 3), activation='relu'))\\nmodel.add(keras.layers.MaxPooling2D(pool_size=(2, 2)))\\nmodel.add(keras.layers.Dropout(0.25))\\nmodel.add(keras.layers.Conv2D(64, (3, 3), activation='relu'))\\nmodel.add(keras.layers.Conv2D(64, (3, 3), activation='relu'))\\nmodel.add(keras.layers.MaxPooling2D(pool_size=(2, 2)))\\nmodel.add(keras.layers.Dropout(0.25))\\nmodel.add(keras.layers.Flatten())\\nmodel.add(keras.layers.Dense(256, activation='relu'))\\nmodel.add(keras.layers.Dropout(0.5))\\nmodel.add(keras.layers.Dense(10, activation='softmax'))\\nsgd = keras.optimizers.SGD(lr=0.01, decay=1e-6, momentum=0.9, nesterov=True)\\nmodel.summary()\""
      ]
     },
     "execution_count": 9,
     "metadata": {},
     "output_type": "execute_result"
    }
   ],
   "source": [
    "'''model = keras.models.Sequential()  #VGG\n",
    "model.add(keras.layers.Conv2D(32, (3, 3), activation='relu', input_shape=(204,204,1)))\n",
    "model.add(keras.layers.Conv2D(32, (3, 3), activation='relu'))\n",
    "model.add(keras.layers.MaxPooling2D(pool_size=(2, 2)))\n",
    "model.add(keras.layers.Dropout(0.25))\n",
    "model.add(keras.layers.Conv2D(64, (3, 3), activation='relu'))\n",
    "model.add(keras.layers.Conv2D(64, (3, 3), activation='relu'))\n",
    "model.add(keras.layers.MaxPooling2D(pool_size=(2, 2)))\n",
    "model.add(keras.layers.Dropout(0.25))\n",
    "model.add(keras.layers.Flatten())\n",
    "model.add(keras.layers.Dense(256, activation='relu'))\n",
    "model.add(keras.layers.Dropout(0.5))\n",
    "model.add(keras.layers.Dense(10, activation='softmax'))\n",
    "sgd = keras.optimizers.SGD(lr=0.01, decay=1e-6, momentum=0.9, nesterov=True)\n",
    "model.summary()'''"
   ]
  },
  {
   "cell_type": "code",
   "execution_count": 10,
   "id": "4843503b-c0e8-4840-847d-50175d558ed9",
   "metadata": {
    "tags": []
   },
   "outputs": [
    {
     "name": "stdout",
     "output_type": "stream",
     "text": [
      "Epoch 1/15\n",
      "29/29 [==============================] - 7s 79ms/step - loss: 5.1004 - accuracy: 0.7489 - val_loss: 0.5449 - val_accuracy: 0.8367\n",
      "Epoch 2/15\n",
      "29/29 [==============================] - 1s 39ms/step - loss: 0.4558 - accuracy: 0.8372 - val_loss: 0.3614 - val_accuracy: 0.8367\n",
      "Epoch 3/15\n",
      "29/29 [==============================] - 1s 43ms/step - loss: 0.3422 - accuracy: 0.8606 - val_loss: 0.2903 - val_accuracy: 0.8717\n",
      "Epoch 4/15\n",
      "29/29 [==============================] - 1s 39ms/step - loss: 0.2892 - accuracy: 0.8706 - val_loss: 0.2682 - val_accuracy: 0.8700\n",
      "Epoch 5/15\n",
      "29/29 [==============================] - 1s 39ms/step - loss: 0.2393 - accuracy: 0.8917 - val_loss: 0.2681 - val_accuracy: 0.8883\n",
      "Epoch 6/15\n",
      "29/29 [==============================] - 1s 40ms/step - loss: 0.2393 - accuracy: 0.9017 - val_loss: 0.2839 - val_accuracy: 0.8717\n",
      "Epoch 7/15\n",
      "29/29 [==============================] - 1s 39ms/step - loss: 0.2121 - accuracy: 0.8967 - val_loss: 0.3812 - val_accuracy: 0.8933\n",
      "Epoch 8/15\n",
      "29/29 [==============================] - 1s 40ms/step - loss: 0.2099 - accuracy: 0.9083 - val_loss: 0.2681 - val_accuracy: 0.8950\n",
      "Epoch 9/15\n",
      "29/29 [==============================] - 1s 40ms/step - loss: 0.1620 - accuracy: 0.9389 - val_loss: 0.3630 - val_accuracy: 0.9067\n",
      "Epoch 10/15\n",
      "29/29 [==============================] - 1s 45ms/step - loss: 0.1440 - accuracy: 0.9394 - val_loss: 0.3083 - val_accuracy: 0.9117\n",
      "Epoch 11/15\n",
      "29/29 [==============================] - 1s 40ms/step - loss: 0.1243 - accuracy: 0.9489 - val_loss: 0.3746 - val_accuracy: 0.9167\n",
      "Epoch 12/15\n",
      "29/29 [==============================] - 1s 41ms/step - loss: 0.1570 - accuracy: 0.9444 - val_loss: 0.2951 - val_accuracy: 0.8933\n",
      "Epoch 13/15\n",
      "29/29 [==============================] - 1s 40ms/step - loss: 0.1277 - accuracy: 0.9522 - val_loss: 0.2149 - val_accuracy: 0.9383\n",
      "Epoch 14/15\n",
      "29/29 [==============================] - 1s 39ms/step - loss: 0.1047 - accuracy: 0.9572 - val_loss: 0.2993 - val_accuracy: 0.9133\n",
      "Epoch 15/15\n",
      "29/29 [==============================] - 1s 39ms/step - loss: 0.0974 - accuracy: 0.9611 - val_loss: 0.2735 - val_accuracy: 0.9350\n"
     ]
    }
   ],
   "source": [
    "train_images = train_images.reshape((1800, 204, 204, 1))\n",
    "test_images=test_images.reshape((600, 204, 204, 1))\n",
    "val_images=test_images.reshape((600, 204, 204, 1))  #损失函数应该改一下，这个是针对多分类的，二分类的不一样binary_crossentropy，优化器可能也要改\n",
    "model.compile(optimizer='adam', loss=tf.keras.losses.SparseCategoricalCrossentropy(from_logits=False),metrics=['accuracy'])\n",
    "#使用二分类交叉熵会报错，这是个大问题？需要解决\n",
    "#epoch 迭代次数\n",
    "#model.fit 方法返回一个 History 回调，它具有包含连续误差的列表和其他度量的 history 属性。\n",
    "history =model.fit(train_images, train_labels, batch_size=64, epochs=15,validation_data=(test_images, test_labels))"
   ]
  },
  {
   "cell_type": "code",
   "execution_count": 11,
   "id": "35ef8cd0-c14f-499b-a44d-3a453a79c3df",
   "metadata": {},
   "outputs": [
    {
     "data": {
      "image/png": "[encoded data removed]",
      "text/plain": [
       "<Figure size 432x288 with 1 Axes>"
      ]
     },
     "metadata": {
      "needs_background": "light"
     },
     "output_type": "display_data"
    },
    {
     "name": "stdout",
     "output_type": "stream",
     "text": [
      "19/19 - 1s - loss: 1.6485 - accuracy: 0.7650\n",
      "0.7649999856948853\n"
     ]
    }
   ],
   "source": [
    "plt.plot(history.history['accuracy'], label='accuracy')\n",
    "plt.plot(history.history['val_accuracy'], label = 'val_accuracy')\n",
    "\n",
    "plt.xlabel('Epoch')\n",
    "plt.ylabel('Accuracy')\n",
    "plt.ylim([0.5, 1])\n",
    "plt.legend(loc='lower right')\n",
    "plt.show()\n",
    "\n",
    "test_loss, test_acc = model.evaluate(val_images, val_labels, verbose=2)\n",
    "print(test_acc)"
   ]
  },
  {
   "cell_type": "code",
   "execution_count": 12,
   "id": "27f8b0ba-6492-4ee4-a417-ed55ab9e40be",
   "metadata": {},
   "outputs": [
    {
     "data": {
      "image/png": "[encoded data removed]",
      "text/plain": [
       "<Figure size 432x288 with 1 Axes>"
      ]
     },
     "metadata": {
      "needs_background": "light"
     },
     "output_type": "display_data"
    },
    {
     "name": "stdout",
     "output_type": "stream",
     "text": [
      "1.6484805345535278\n"
     ]
    },
    {
     "data": {
      "text/plain": [
       "'\\nepochs = 15\\nhistory_dict = history.history\\ntrain_loss = history_dict[\"loss\"]\\nval_loss = history_dict[\"val_loss\"]\\nplt.figure()\\nplt.plot(range(epochs), train_loss, label=\\'train_loss\\')\\nplt.plot(range(epochs), val_loss, label=\\'val_loss\\')\\nplt.legend()\\nplt.xlabel(\\'Epochs\\')\\nplt.ylabel(\\'loss\\')'"
      ]
     },
     "execution_count": 12,
     "metadata": {},
     "output_type": "execute_result"
    }
   ],
   "source": [
    "plt.plot(history.history['loss'], label='loss')\n",
    "plt.plot(history.history['val_loss'], label='loss')\n",
    "plt.xlabel('Epoch')\n",
    "plt.ylabel('Lose')\n",
    "plt.ylim([0, 2])\n",
    "plt.legend(loc='lower right')\n",
    "plt.show()\n",
    "print(test_loss)\n",
    "'''\n",
    "epochs = 15\n",
    "history_dict = history.history\n",
    "train_loss = history_dict[\"loss\"]\n",
    "val_loss = history_dict[\"val_loss\"]\n",
    "plt.figure()\n",
    "plt.plot(range(epochs), train_loss, label='train_loss')\n",
    "plt.plot(range(epochs), val_loss, label='val_loss')\n",
    "plt.legend()\n",
    "plt.xlabel('Epochs')\n",
    "plt.ylabel('loss')'''"
   ]
  }
 ],
 "metadata": {
  "kernelspec": {
   "display_name": "Python 3 (ipykernel)",
   "language": "python",
   "name": "python3"
  },
  "language_info": {
   "codemirror_mode": {
    "name": "ipython",
    "version": 3
   },
   "file_extension": ".py",
   "mimetype": "text/x-python",
   "name": "python",
   "nbconvert_exporter": "python",
   "pygments_lexer": "ipython3",
   "version": "3.8.12"
  }
 },
 "nbformat": 4,
 "nbformat_minor": 5
}
