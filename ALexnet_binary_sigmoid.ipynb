{
 "cells": [
  {
   "cell_type": "code",
   "execution_count": 1,
   "id": "aaefec87-0103-4509-bee5-52691e148d3b",
   "metadata": {},
   "outputs": [],
   "source": [
    "# import libraries\n",
    "import matplotlib.pyplot as plt\n",
    "import numpy as np\n",
    "import os\n",
    "import PIL\n",
    "import tensorflow as tf\n",
    "import pandas as pd\n",
    "import cv2\n",
    "\n",
    "from tensorflow import keras\n",
    "from tensorflow.keras import layers, models\n",
    "from tensorflow.keras.models import Sequential\n",
    "from sklearn.model_selection import train_test_split\n",
    "from tensorflow.keras.preprocessing.image import ImageDataGenerator\n",
    "from tensorflow.keras.callbacks import ReduceLROnPlateau,EarlyStopping"
   ]
  },
  {
   "cell_type": "code",
   "execution_count": 2,
   "id": "5896db2e-19a9-4ac8-8230-2ad36b908c3b",
   "metadata": {
    "tags": []
   },
   "outputs": [],
   "source": [
    "# load data\n",
    "all_data= np.load(file=\"alldata_3D.npy\")\n",
    "all_lables=pd.read_csv('label.csv')\n",
    "test_images=np.load(file='testdata_3D.npy')\n",
    "test_lables=pd.read_csv('test_label.csv')\n",
    "\n",
    "# create label binary array \n",
    "labels=[]\n",
    "test_labels=[]\n",
    "for i in range(3000):\n",
    "    data = all_lables['label'][i]\n",
    "    if data == 'no_tumor':\n",
    "        #label.append(data)\n",
    "        labels.append(0)\n",
    "    else:\n",
    "        #label.append('meningioma_tumor')\n",
    "        labels.append(1)\n",
    "        \n",
    "for i in range(200):\n",
    "    data = test_lables['label'][i]\n",
    "    if data == 'no_tumor':\n",
    "        #label.append(data)\n",
    "        test_labels.append(0)\n",
    "    else:\n",
    "        #label.append('meningioma_tumor')\n",
    "        test_labels.append(1)\n",
    "        \n",
    "labels = np.array(labels)\n",
    "test_labels =np.array(test_labels)"
   ]
  },
  {
   "cell_type": "code",
   "execution_count": 3,
   "id": "79c0e0e2-efe4-4898-85ab-772ebd858e64",
   "metadata": {},
   "outputs": [],
   "source": [
    "# Normalize the pixel value into a floating-point number between 0 and 1.\n",
    "all_data = np.array(all_data, dtype=\"float\") / 255.0 \n",
    "test_images= np.array(test_images, dtype=\"float\") / 255.0\n",
    "\n",
    "# Data Augmentation, Perform random horizontal flipping\n",
    "aug = ImageDataGenerator(horizontal_flip=True)\n",
    "\n",
    "# Direct adjustment of hyperparameter\n",
    "INIT_LR = 0.005\n",
    "EPOCHS = 30\n",
    "BS = 64\n",
    "\n",
    "# Divided into training set and verification set according to 8: 2\n",
    "train_images,val_images,train_labels,val_labels=train_test_split(all_data,labels,test_size=0.2,random_state=0)"
   ]
  },
  {
   "cell_type": "code",
   "execution_count": 4,
   "id": "a858c382-982f-4ae2-be43-8294ff8fa133",
   "metadata": {},
   "outputs": [],
   "source": [
    "# LRN Local Response Normalization\n",
    "class LRN(keras.layers.Layer):\n",
    "    def __init__(self):\n",
    "        super(LRN, self).__init__()\n",
    "        self.depth_radius=2\n",
    "        self.bias=1\n",
    "        self.alpha=1e-4\n",
    "        self.beta=0.75\n",
    "    def call(self,x):\n",
    "        return tf.nn.lrn(x,depth_radius=self.depth_radius,\n",
    "                         bias=self.bias,alpha=self.alpha,\n",
    "                         beta=self.beta)"
   ]
  },
  {
   "cell_type": "code",
   "execution_count": 5,
   "id": "646ce5ac-ac2b-4718-b3ba-3787225553aa",
   "metadata": {},
   "outputs": [
    {
     "name": "stdout",
     "output_type": "stream",
     "text": [
      "Model: \"sequential\"\n",
      "_________________________________________________________________\n",
      "Layer (type)                 Output Shape              Param #   \n",
      "=================================================================\n",
      "conv2d (Conv2D)              (None, 56, 56, 96)        34944     \n",
      "_________________________________________________________________\n",
      "max_pooling2d (MaxPooling2D) (None, 27, 27, 96)        0         \n",
      "_________________________________________________________________\n",
      "lrn (LRN)                    (None, 27, 27, 96)        0         \n",
      "_________________________________________________________________\n",
      "conv2d_1 (Conv2D)            (None, 27, 27, 256)       614656    \n",
      "_________________________________________________________________\n",
      "max_pooling2d_1 (MaxPooling2 (None, 13, 13, 256)       0         \n",
      "_________________________________________________________________\n",
      "lrn_1 (LRN)                  (None, 13, 13, 256)       0         \n",
      "_________________________________________________________________\n",
      "conv2d_2 (Conv2D)            (None, 13, 13, 384)       885120    \n",
      "_________________________________________________________________\n",
      "conv2d_3 (Conv2D)            (None, 13, 13, 384)       1327488   \n",
      "_________________________________________________________________\n",
      "conv2d_4 (Conv2D)            (None, 13, 13, 256)       884992    \n",
      "_________________________________________________________________\n",
      "max_pooling2d_2 (MaxPooling2 (None, 6, 6, 256)         0         \n",
      "_________________________________________________________________\n",
      "flatten (Flatten)            (None, 9216)              0         \n",
      "_________________________________________________________________\n",
      "dense (Dense)                (None, 4096)              37752832  \n",
      "_________________________________________________________________\n",
      "dropout (Dropout)            (None, 4096)              0         \n",
      "_________________________________________________________________\n",
      "dense_1 (Dense)              (None, 4096)              16781312  \n",
      "_________________________________________________________________\n",
      "dropout_1 (Dropout)          (None, 4096)              0         \n",
      "_________________________________________________________________\n",
      "dense_2 (Dense)              (None, 1)                 4097      \n",
      "=================================================================\n",
      "Total params: 58,285,441\n",
      "Trainable params: 58,285,441\n",
      "Non-trainable params: 0\n",
      "_________________________________________________________________\n"
     ]
    }
   ],
   "source": [
    "#conv1+pool1+lrn1-->conv2+pool2+lrn2-->conv3-->conv4-->conv5+pool5-->fc1-->fc2-->fc3 Alexnet Model\n",
    "model = keras.models.Sequential()\n",
    "model.add(keras.layers.Conv2D(filters=96, kernel_size=(11,11),strides=4,activation='relu',padding='same',input_shape=(224,224,3)))\n",
    "model.add(keras.layers.MaxPool2D(pool_size=(3,3),strides=2))\n",
    "model.add(LRN())\n",
    "model.add(keras.layers.Conv2D(filters=256,kernel_size=(5,5),strides=1,activation='relu',padding='same'))\n",
    "model.add(keras.layers.MaxPool2D(pool_size=(3,3),strides=2))\n",
    "model.add(LRN())\n",
    "model.add(keras.layers.Conv2D(filters=384,kernel_size=(3,3),strides=1,activation='relu',padding='same'))\n",
    "model.add(keras.layers.Conv2D(filters=384,kernel_size=(3,3),strides=1,activation='relu',padding='same'))\n",
    "model.add(keras.layers.Conv2D(filters=256,kernel_size=(3,3),strides=1,activation='relu',padding='same'))\n",
    "model.add(keras.layers.MaxPool2D(pool_size=(3,3),strides=2))\n",
    "model.add(keras.layers.Flatten())\n",
    "model.add(keras.layers.Dense(4096,activation='relu'))\n",
    "model.add(keras.layers.Dropout(0.5))\n",
    "model.add(keras.layers.Dense(4096,activation='relu'))\n",
    "model.add(keras.layers.Dropout(0.5))\n",
    "model.add(keras.layers.Dense(1,activation=\"sigmoid\")) \n",
    "#Random gradient descent\n",
    "#sgd = keras.optimizers.SGD(lr=0.0001, decay=1e-6, momentum=0.9, nesterov=True)\n",
    "model.summary()\n",
    "# sigmoid：from_logits=True Dense(1) \n",
    "# softmax：from_logits=Falese Dense(2)"
   ]
  },
  {
   "cell_type": "code",
   "execution_count": 6,
   "id": "4843503b-c0e8-4840-847d-50175d558ed9",
   "metadata": {
    "tags": []
   },
   "outputs": [
    {
     "name": "stdout",
     "output_type": "stream",
     "text": [
      "Epoch 1/30\n"
     ]
    },
    {
     "name": "stderr",
     "output_type": "stream",
     "text": [
      "C:\\Users\\93650\\AppData\\Roaming\\Python\\Python38\\site-packages\\tensorflow\\python\\keras\\backend.py:5016: UserWarning: \"`binary_crossentropy` received `from_logits=True`, but the `output` argument was produced by a sigmoid or softmax activation and thus does not represent logits. Was this intended?\"\n",
      "  warnings.warn(\n"
     ]
    },
    {
     "name": "stdout",
     "output_type": "stream",
     "text": [
      "38/38 [==============================] - 8s 86ms/step - loss: 0.7784 - accuracy: 0.8400 - val_loss: 0.4224 - val_accuracy: 0.8367\n",
      "Epoch 2/30\n",
      "38/38 [==============================] - 2s 56ms/step - loss: 0.3605 - accuracy: 0.8596 - val_loss: 0.4061 - val_accuracy: 0.8367\n",
      "Epoch 3/30\n",
      "38/38 [==============================] - 2s 58ms/step - loss: 0.2964 - accuracy: 0.8575 - val_loss: 0.3120 - val_accuracy: 0.8433\n",
      "Epoch 4/30\n",
      "38/38 [==============================] - 2s 64ms/step - loss: 0.2813 - accuracy: 0.8671 - val_loss: 0.2433 - val_accuracy: 0.9000\n",
      "Epoch 5/30\n",
      "38/38 [==============================] - 2s 57ms/step - loss: 0.2464 - accuracy: 0.8838 - val_loss: 0.2640 - val_accuracy: 0.8917\n",
      "Epoch 6/30\n",
      "38/38 [==============================] - 2s 57ms/step - loss: 0.2306 - accuracy: 0.8979 - val_loss: 0.2377 - val_accuracy: 0.8900\n",
      "Epoch 7/30\n",
      "38/38 [==============================] - 2s 55ms/step - loss: 0.2178 - accuracy: 0.9050 - val_loss: 0.2867 - val_accuracy: 0.8900\n",
      "Epoch 8/30\n",
      "38/38 [==============================] - 2s 54ms/step - loss: 0.2126 - accuracy: 0.9154 - val_loss: 0.2023 - val_accuracy: 0.9067\n",
      "Epoch 9/30\n",
      "38/38 [==============================] - 2s 55ms/step - loss: 0.1838 - accuracy: 0.9237 - val_loss: 0.2186 - val_accuracy: 0.8967\n",
      "Epoch 10/30\n",
      "38/38 [==============================] - 2s 54ms/step - loss: 0.1848 - accuracy: 0.9246 - val_loss: 0.2242 - val_accuracy: 0.8850\n",
      "Epoch 11/30\n",
      "38/38 [==============================] - 2s 54ms/step - loss: 0.1992 - accuracy: 0.9087 - val_loss: 0.1985 - val_accuracy: 0.8950\n",
      "Epoch 12/30\n",
      "38/38 [==============================] - 2s 54ms/step - loss: 0.1723 - accuracy: 0.9287 - val_loss: 0.2208 - val_accuracy: 0.8950\n",
      "Epoch 13/30\n",
      "38/38 [==============================] - 2s 54ms/step - loss: 0.1567 - accuracy: 0.9287 - val_loss: 0.2191 - val_accuracy: 0.9083\n",
      "Epoch 14/30\n",
      "38/38 [==============================] - 2s 56ms/step - loss: 0.1656 - accuracy: 0.9279 - val_loss: 0.1857 - val_accuracy: 0.9200\n",
      "Epoch 15/30\n",
      "38/38 [==============================] - 2s 60ms/step - loss: 0.1461 - accuracy: 0.9433 - val_loss: 0.1910 - val_accuracy: 0.9117\n",
      "Epoch 16/30\n",
      "38/38 [==============================] - 3s 72ms/step - loss: 0.1296 - accuracy: 0.9450 - val_loss: 0.1955 - val_accuracy: 0.9283\n",
      "Epoch 17/30\n",
      "38/38 [==============================] - 3s 71ms/step - loss: 0.1049 - accuracy: 0.9542 - val_loss: 0.1766 - val_accuracy: 0.9283\n",
      "Epoch 18/30\n",
      "38/38 [==============================] - 3s 71ms/step - loss: 0.1234 - accuracy: 0.9500 - val_loss: 0.1790 - val_accuracy: 0.9200\n",
      "Epoch 19/30\n",
      "38/38 [==============================] - 3s 71ms/step - loss: 0.1149 - accuracy: 0.9521 - val_loss: 0.1647 - val_accuracy: 0.9300\n",
      "Epoch 20/30\n",
      "38/38 [==============================] - 3s 71ms/step - loss: 0.0886 - accuracy: 0.9663 - val_loss: 0.1758 - val_accuracy: 0.9233\n",
      "Epoch 21/30\n",
      "38/38 [==============================] - 3s 71ms/step - loss: 0.0925 - accuracy: 0.9625 - val_loss: 0.1688 - val_accuracy: 0.9383\n",
      "Epoch 22/30\n",
      "38/38 [==============================] - 3s 71ms/step - loss: 0.0880 - accuracy: 0.9629 - val_loss: 0.1375 - val_accuracy: 0.9417\n",
      "Epoch 23/30\n",
      "38/38 [==============================] - 3s 72ms/step - loss: 0.0680 - accuracy: 0.9750 - val_loss: 0.1337 - val_accuracy: 0.9500\n",
      "Epoch 24/30\n",
      "38/38 [==============================] - 3s 71ms/step - loss: 0.0731 - accuracy: 0.9717 - val_loss: 0.1751 - val_accuracy: 0.9417\n",
      "Epoch 25/30\n",
      "38/38 [==============================] - 2s 64ms/step - loss: 0.0582 - accuracy: 0.9767 - val_loss: 0.1735 - val_accuracy: 0.9433\n",
      "Epoch 26/30\n",
      "38/38 [==============================] - 2s 61ms/step - loss: 0.0834 - accuracy: 0.9696 - val_loss: 0.1525 - val_accuracy: 0.9250\n",
      "Epoch 27/30\n",
      "38/38 [==============================] - 2s 54ms/step - loss: 0.0877 - accuracy: 0.9646 - val_loss: 0.1471 - val_accuracy: 0.9367\n",
      "Epoch 28/30\n",
      "38/38 [==============================] - 2s 55ms/step - loss: 0.0816 - accuracy: 0.9667 - val_loss: 0.1427 - val_accuracy: 0.9433\n",
      "Epoch 29/30\n",
      "38/38 [==============================] - 2s 54ms/step - loss: 0.0574 - accuracy: 0.9758 - val_loss: 0.1384 - val_accuracy: 0.9567\n",
      "Epoch 30/30\n",
      "38/38 [==============================] - 2s 54ms/step - loss: 0.0434 - accuracy: 0.9796 - val_loss: 0.1433 - val_accuracy: 0.9483\n"
     ]
    }
   ],
   "source": [
    "#complie and fit the model\n",
    "model.compile(optimizer=tf.keras.optimizers.Adam(learning_rate=INIT_LR), loss=tf.keras.losses.BinaryCrossentropy(from_logits=True),metrics=['accuracy'])\n",
    "#reduce_lr = ReduceLROnPlateau(monitor='val_loss', factor=0.1, patience=2, verbose=1)\n",
    "#history =model.fit(train_images, train_labels, batch_size=32, epochs=EPOCHS,validation_data=(val_images, val_labels),callbacks=[reduce_lr])\n",
    "history =model.fit(aug.flow(train_images, train_labels, batch_size=BS), epochs=EPOCHS,validation_data=(val_images, val_labels))"
   ]
  },
  {
   "cell_type": "code",
   "execution_count": 7,
   "id": "8efc5851-0fb3-483b-924c-55d1e23df452",
   "metadata": {},
   "outputs": [
    {
     "data": {
      "image/png": "[encoded data removed]",
      "text/plain": [
       "<Figure size 432x288 with 1 Axes>"
      ]
     },
     "metadata": {
      "needs_background": "light"
     },
     "output_type": "display_data"
    },
    {
     "name": "stdout",
     "output_type": "stream",
     "text": [
      "7/7 [==============================] - 0s 37ms/step - loss: 0.0871 - accuracy: 0.9650\n",
      "0.9649999737739563 0.08712686598300934\n"
     ]
    }
   ],
   "source": [
    "#plot the curse and result\n",
    "plt.plot(history.history['loss'], label='loss')\n",
    "plt.plot(history.history['val_loss'], label='val_loss')\n",
    "plt.plot(history.history['accuracy'], label='accuracy')\n",
    "plt.plot(history.history['val_accuracy'], label = 'val_accuracy')\n",
    "plt.xlabel('Epoch')\n",
    "plt.ylabel('Accuracy/Lose')\n",
    "plt.ylim([0, 1])\n",
    "plt.legend(loc='center right')\n",
    "plt.show()\n",
    "\n",
    "test_loss, test_acc = model.evaluate(test_images, test_labels, verbose=1)\n",
    "print(test_acc, test_loss)"
   ]
  },
  {
   "cell_type": "code",
   "execution_count": null,
   "id": "a35f67a2-e83d-4b61-a3b3-a5b2e8fee632",
   "metadata": {},
   "outputs": [],
   "source": []
  }
 ],
 "metadata": {
  "kernelspec": {
   "display_name": "Python 3 (ipykernel)",
   "language": "python",
   "name": "python3"
  },
  "language_info": {
   "codemirror_mode": {
    "name": "ipython",
    "version": 3
   },
   "file_extension": ".py",
   "mimetype": "text/x-python",
   "name": "python",
   "nbconvert_exporter": "python",
   "pygments_lexer": "ipython3",
   "version": "3.8.12"
  }
 },
 "nbformat": 4,
 "nbformat_minor": 5
}
