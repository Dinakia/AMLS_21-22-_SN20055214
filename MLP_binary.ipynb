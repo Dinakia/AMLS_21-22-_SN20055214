{
 "cells": [
  {
   "cell_type": "code",
   "execution_count": 1,
   "id": "aaefec87-0103-4509-bee5-52691e148d3b",
   "metadata": {},
   "outputs": [
    {
     "ename": "KeyboardInterrupt",
     "evalue": "",
     "output_type": "error",
     "traceback": [
      "\u001b[1;31m---------------------------------------------------------------------------\u001b[0m",
      "\u001b[1;31mKeyboardInterrupt\u001b[0m                         Traceback (most recent call last)",
      "\u001b[1;32m~\\AppData\\Local\\Temp/ipykernel_30108/3244772590.py\u001b[0m in \u001b[0;36m<module>\u001b[1;34m\u001b[0m\n\u001b[0;32m      5\u001b[0m \u001b[1;32mimport\u001b[0m \u001b[0mtensorflow\u001b[0m \u001b[1;32mas\u001b[0m \u001b[0mtf\u001b[0m\u001b[1;33m\u001b[0m\u001b[1;33m\u001b[0m\u001b[0m\n\u001b[0;32m      6\u001b[0m \u001b[1;32mimport\u001b[0m \u001b[0mpandas\u001b[0m \u001b[1;32mas\u001b[0m \u001b[0mpd\u001b[0m\u001b[1;33m\u001b[0m\u001b[1;33m\u001b[0m\u001b[0m\n\u001b[1;32m----> 7\u001b[1;33m \u001b[1;32mimport\u001b[0m \u001b[0mcv2\u001b[0m\u001b[1;33m\u001b[0m\u001b[1;33m\u001b[0m\u001b[0m\n\u001b[0m\u001b[0;32m      8\u001b[0m \u001b[1;33m\u001b[0m\u001b[0m\n\u001b[0;32m      9\u001b[0m \u001b[1;32mfrom\u001b[0m \u001b[0mtensorflow\u001b[0m \u001b[1;32mimport\u001b[0m \u001b[0mkeras\u001b[0m\u001b[1;33m\u001b[0m\u001b[1;33m\u001b[0m\u001b[0m\n",
      "\u001b[1;32mE:\\anaconda_neve\\envs\\MLP\\lib\\site-packages\\cv2\\__init__.py\u001b[0m in \u001b[0;36m<module>\u001b[1;34m\u001b[0m\n\u001b[0;32m      6\u001b[0m \u001b[1;32mimport\u001b[0m \u001b[0msys\u001b[0m\u001b[1;33m\u001b[0m\u001b[1;33m\u001b[0m\u001b[0m\n\u001b[0;32m      7\u001b[0m \u001b[1;33m\u001b[0m\u001b[0m\n\u001b[1;32m----> 8\u001b[1;33m \u001b[1;32mfrom\u001b[0m \u001b[1;33m.\u001b[0m\u001b[0mcv2\u001b[0m \u001b[1;32mimport\u001b[0m \u001b[1;33m*\u001b[0m\u001b[1;33m\u001b[0m\u001b[1;33m\u001b[0m\u001b[0m\n\u001b[0m\u001b[0;32m      9\u001b[0m \u001b[1;32mfrom\u001b[0m \u001b[1;33m.\u001b[0m\u001b[0mcv2\u001b[0m \u001b[1;32mimport\u001b[0m \u001b[0m_registerMatType\u001b[0m\u001b[1;33m\u001b[0m\u001b[1;33m\u001b[0m\u001b[0m\n\u001b[0;32m     10\u001b[0m \u001b[1;32mfrom\u001b[0m \u001b[1;33m.\u001b[0m \u001b[1;32mimport\u001b[0m \u001b[0mmat_wrapper\u001b[0m\u001b[1;33m\u001b[0m\u001b[1;33m\u001b[0m\u001b[0m\n",
      "\u001b[1;31mKeyboardInterrupt\u001b[0m: "
     ]
    }
   ],
   "source": [
    "import matplotlib.pyplot as plt\n",
    "import numpy as np\n",
    "import os\n",
    "import PIL\n",
    "import tensorflow as tf\n",
    "import pandas as pd\n",
    "import cv2\n",
    "\n",
    "from tensorflow import keras\n",
    "from tensorflow.keras import layers, models\n",
    "from tensorflow.keras.models import Sequential\n",
    "from sklearn.model_selection import train_test_split\n",
    "from tensorflow.keras.preprocessing.image import ImageDataGenerator\n",
    "\n",
    "#目前问题：尝试LRN的实现；以及目前的效果都很不好，需要考虑使用数据增强，如果仍然不行的话就要换网络，试试VGG的效果\n",
    "#另一个问题是使用binary_crossentropy二分类交叉熵会报错，目前只能用多分类的，不知道这个问题解决能不能提高成功率\n",
    "#了解one-hot编码，应用随机增强\n",
    "#原来灰度图不是只有0和1啊卧槽，我还需要进行标准化，这是个关键问题，和数据增强一起"
   ]
  },
  {
   "cell_type": "code",
   "execution_count": null,
   "id": "5896db2e-19a9-4ac8-8230-2ad36b908c3b",
   "metadata": {},
   "outputs": [],
   "source": [
    "alldata= np.load(file=\"alldata_3D.npy\")\n",
    "alllable=pd.read_csv('label_binary.csv')\n",
    "label=[]\n",
    "for i in range(3000):\n",
    "    data = alllable['label'][i]\n",
    "    if data == 'no_tumor':\n",
    "        #label.append(data)\n",
    "        label.append(0)\n",
    "    else:\n",
    "        #label.append('meningioma_tumor')\n",
    "        label.append(1)\n",
    "label = np.array(label)\n",
    "#按照6：2：2的结构来分成训练集，测试集和验证集\n",
    "train_images,test_images,train_labels,test_labels=train_test_split(alldata,label,test_size=0.2,random_state=0)\n",
    "train_images,val_images,train_labels,val_labels=train_test_split(train_images,train_labels,test_size=0.25,random_state=0)"
   ]
  },
  {
   "cell_type": "code",
   "execution_count": null,
   "id": "1e6c8637-7bcc-4848-a72e-e4352a07140d",
   "metadata": {},
   "outputs": [],
   "source": [
    "class_names1 = ['tumor','no_tumor']"
   ]
  },
  {
   "cell_type": "code",
   "execution_count": null,
   "id": "a69ce358-6be9-4db9-a053-66436966c15f",
   "metadata": {},
   "outputs": [],
   "source": [
    "#train_image_generator = keras.preprocessing.image.ImageDataGenerator(rescale=1./255,rotation_range=40,width_shift_range=0.2,height_shift_range=0.2,zoom_range=0.2,\n",
    "#horizontal_flip=True,fill_mode='nearest')"
   ]
  },
  {
   "cell_type": "code",
   "execution_count": null,
   "id": "19419b34-5093-487b-952f-605a1f475512",
   "metadata": {},
   "outputs": [],
   "source": [
    "#用多层感知机的话数据格式需要改一下，之后在处理\n",
    "'''model = keras.models.Sequential()\n",
    "model.add(keras.layers.Dense(64, input_dim=20, activation='relu'))\n",
    "model.add(keras.layers.Dropout(0.5))\n",
    "model.add(keras.layers.Dense(64, activation='relu'))\n",
    "model.add(keras.layers.Dropout(0.5))\n",
    "model.add(keras.layers.Dense(1, activation='sigmoid'))\n",
    "model.summary()'''"
   ]
  },
  {
   "cell_type": "code",
   "execution_count": null,
   "id": "c8ba1a34-959a-4103-98ff-4729ea969e32",
   "metadata": {},
   "outputs": [],
   "source": [
    "model = keras.Sequential()\n",
    "covn_base=keras.applications.xception.Xception(include_top=False, weights=None,\n",
    "                                    input_tensor=None, input_shape=(224, 224, 3),\n",
    "                                    pooling=None, classes=1000)\n",
    "model.add(covn_base)\n",
    "model.add(keras.layers.Dense(2048, input_shape=(7,7,2048),activation='relu'))\n",
    "model.add(keras.layers.Dense(2,activation=\"softmax\"))\n",
    "model.summary()"
   ]
  },
  {
   "cell_type": "code",
   "execution_count": null,
   "id": "cbad5cb9-9a4c-4338-9ac5-85e94f0c86a9",
   "metadata": {},
   "outputs": [],
   "source": [
    "train_images.shape"
   ]
  },
  {
   "cell_type": "code",
   "execution_count": null,
   "id": "4843503b-c0e8-4840-847d-50175d558ed9",
   "metadata": {
    "tags": []
   },
   "outputs": [],
   "source": [
    "#损失函数应该改一下，这个是针对多分类的，二分类的不一样binary_crossentropy，优化器可能也要改\n",
    "model.compile(optimizer='adam', loss=tf.keras.losses.SparseCategoricalCrossentropy(from_logits=False),metrics=['accuracy'])\n",
    "#使用二分类交叉熵会报错，这是个大问题？需要解决\n",
    "#epoch 迭代次数\n",
    "#model.fit 方法返回一个 History 回调，它具有包含连续误差的列表和其他度量的 history 属性。\n",
    "history =model.fit(train_images, train_labels, batch_size=32, epochs=15,validation_data=(test_images, test_labels))"
   ]
  },
  {
   "cell_type": "code",
   "execution_count": null,
   "id": "35ef8cd0-c14f-499b-a44d-3a453a79c3df",
   "metadata": {},
   "outputs": [],
   "source": [
    "plt.plot(history.history['accuracy'], label='accuracy')\n",
    "plt.plot(history.history['val_accuracy'], label = 'val_accuracy')\n",
    "\n",
    "plt.xlabel('Epoch')\n",
    "plt.ylabel('Accuracy')\n",
    "plt.ylim([0.5, 1])\n",
    "plt.legend(loc='lower right')\n",
    "plt.show()\n",
    "\n",
    "test_loss, test_acc = model.evaluate(val_images, val_labels, verbose=2)\n",
    "print(test_acc)"
   ]
  },
  {
   "cell_type": "code",
   "execution_count": null,
   "id": "27f8b0ba-6492-4ee4-a417-ed55ab9e40be",
   "metadata": {},
   "outputs": [],
   "source": [
    "plt.plot(history.history['loss'], label='loss')\n",
    "plt.plot(history.history['val_loss'], label='loss')\n",
    "plt.xlabel('Epoch')\n",
    "plt.ylabel('Lose')\n",
    "plt.ylim([0, 2])\n",
    "plt.legend(loc='lower right')\n",
    "plt.show()\n",
    "print(test_loss)"
   ]
  }
 ],
 "metadata": {
  "kernelspec": {
   "display_name": "Python 3 (ipykernel)",
   "language": "python",
   "name": "python3"
  },
  "language_info": {
   "codemirror_mode": {
    "name": "ipython",
    "version": 3
   },
   "file_extension": ".py",
   "mimetype": "text/x-python",
   "name": "python",
   "nbconvert_exporter": "python",
   "pygments_lexer": "ipython3",
   "version": "3.8.12"
  }
 },
 "nbformat": 4,
 "nbformat_minor": 5
}
