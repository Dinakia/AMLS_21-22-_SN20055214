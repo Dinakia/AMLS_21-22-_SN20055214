{
 "cells": [
  {
   "cell_type": "code",
   "execution_count": 1,
   "id": "aaefec87-0103-4509-bee5-52691e148d3b",
   "metadata": {},
   "outputs": [],
   "source": [
    "# import libraries\n",
    "import matplotlib.pyplot as plt\n",
    "import numpy as np\n",
    "import os\n",
    "import PIL\n",
    "import tensorflow as tf\n",
    "import pandas as pd\n",
    "import cv2\n",
    "\n",
    "from tensorflow import keras\n",
    "from tensorflow.keras import layers, models\n",
    "from tensorflow.keras.models import Sequential\n",
    "from sklearn.model_selection import train_test_split\n",
    "from tensorflow.keras.preprocessing.image import ImageDataGenerator\n",
    "from tensorflow.keras.callbacks import ReduceLROnPlateau,EarlyStopping"
   ]
  },
  {
   "cell_type": "code",
   "execution_count": 2,
   "id": "5896db2e-19a9-4ac8-8230-2ad36b908c3b",
   "metadata": {
    "tags": []
   },
   "outputs": [],
   "source": [
    "# load data\n",
    "all_data= np.load(file=\"alldata_3D.npy\")\n",
    "all_lables=pd.read_csv('label.csv')\n",
    "test_images=np.load(file='testdata_3D.npy')\n",
    "test_lables=pd.read_csv('test_label.csv')\n",
    "\n",
    "# create label binary array \n",
    "labels=[]\n",
    "test_labels=[]\n",
    "for i in range(3000):\n",
    "    data = all_lables['label'][i]\n",
    "    if data == 'no_tumor':\n",
    "        #label.append(data)\n",
    "        labels.append(0)\n",
    "    else:\n",
    "        #label.append('meningioma_tumor')\n",
    "        labels.append(1)\n",
    "        \n",
    "for i in range(200):\n",
    "    data = test_lables['label'][i]\n",
    "    if data == 'no_tumor':\n",
    "        #label.append(data)\n",
    "        test_labels.append(0)\n",
    "    else:\n",
    "        #label.append('meningioma_tumor')\n",
    "        test_labels.append(1)\n",
    "        \n",
    "labels = np.array(labels)\n",
    "test_labels =np.array(test_labels)"
   ]
  },
  {
   "cell_type": "code",
   "execution_count": 3,
   "id": "79c0e0e2-efe4-4898-85ab-772ebd858e64",
   "metadata": {},
   "outputs": [],
   "source": [
    "# Normalize the pixel value into a floating-point number between 0 and 1.\n",
    "all_data = np.array(all_data, dtype=\"float\") / 255.0 \n",
    "test_images= np.array(test_images, dtype=\"float\") / 255.0\n",
    "\n",
    "# Data Augmentation, Perform random horizontal flipping\n",
    "aug = ImageDataGenerator(horizontal_flip=True)\n",
    "\n",
    "# Direct adjustment of hyperparameter\n",
    "INIT_LR = 0.005\n",
    "EPOCHS = 30\n",
    "BS = 32\n",
    "\n",
    "# Divided into training set and verification set according to 8: 2\n",
    "train_images,val_images,train_labels,val_labels=train_test_split(all_data,labels,test_size=0.2,random_state=0)"
   ]
  },
  {
   "cell_type": "code",
   "execution_count": 4,
   "id": "a858c382-982f-4ae2-be43-8294ff8fa133",
   "metadata": {},
   "outputs": [],
   "source": [
    "# LRN Local Response Normalization\n",
    "class LRN(keras.layers.Layer):\n",
    "    def __init__(self):\n",
    "        super(LRN, self).__init__()\n",
    "        self.depth_radius=2\n",
    "        self.bias=1\n",
    "        self.alpha=1e-4\n",
    "        self.beta=0.75\n",
    "    def call(self,x):\n",
    "        return tf.nn.lrn(x,depth_radius=self.depth_radius,\n",
    "                         bias=self.bias,alpha=self.alpha,\n",
    "                         beta=self.beta)"
   ]
  },
  {
   "cell_type": "code",
   "execution_count": 5,
   "id": "646ce5ac-ac2b-4718-b3ba-3787225553aa",
   "metadata": {},
   "outputs": [
    {
     "name": "stdout",
     "output_type": "stream",
     "text": [
      "Model: \"sequential\"\n",
      "_________________________________________________________________\n",
      "Layer (type)                 Output Shape              Param #   \n",
      "=================================================================\n",
      "conv2d (Conv2D)              (None, 56, 56, 96)        34944     \n",
      "_________________________________________________________________\n",
      "max_pooling2d (MaxPooling2D) (None, 27, 27, 96)        0         \n",
      "_________________________________________________________________\n",
      "lrn (LRN)                    (None, 27, 27, 96)        0         \n",
      "_________________________________________________________________\n",
      "conv2d_1 (Conv2D)            (None, 27, 27, 256)       614656    \n",
      "_________________________________________________________________\n",
      "max_pooling2d_1 (MaxPooling2 (None, 13, 13, 256)       0         \n",
      "_________________________________________________________________\n",
      "lrn_1 (LRN)                  (None, 13, 13, 256)       0         \n",
      "_________________________________________________________________\n",
      "conv2d_2 (Conv2D)            (None, 13, 13, 384)       885120    \n",
      "_________________________________________________________________\n",
      "conv2d_3 (Conv2D)            (None, 13, 13, 384)       1327488   \n",
      "_________________________________________________________________\n",
      "conv2d_4 (Conv2D)            (None, 13, 13, 256)       884992    \n",
      "_________________________________________________________________\n",
      "max_pooling2d_2 (MaxPooling2 (None, 6, 6, 256)         0         \n",
      "_________________________________________________________________\n",
      "flatten (Flatten)            (None, 9216)              0         \n",
      "_________________________________________________________________\n",
      "dense (Dense)                (None, 4096)              37752832  \n",
      "_________________________________________________________________\n",
      "dropout (Dropout)            (None, 4096)              0         \n",
      "_________________________________________________________________\n",
      "dense_1 (Dense)              (None, 4096)              16781312  \n",
      "_________________________________________________________________\n",
      "dropout_1 (Dropout)          (None, 4096)              0         \n",
      "_________________________________________________________________\n",
      "dense_2 (Dense)              (None, 2)                 8194      \n",
      "=================================================================\n",
      "Total params: 58,289,538\n",
      "Trainable params: 58,289,538\n",
      "Non-trainable params: 0\n",
      "_________________________________________________________________\n"
     ]
    },
    {
     "name": "stderr",
     "output_type": "stream",
     "text": [
      "C:\\Users\\93650\\AppData\\Roaming\\Python\\Python38\\site-packages\\tensorflow\\python\\keras\\optimizer_v2\\optimizer_v2.py:374: UserWarning: The `lr` argument is deprecated, use `learning_rate` instead.\n",
      "  warnings.warn(\n"
     ]
    }
   ],
   "source": [
    "#conv1+pool1+lrn1-->conv2+pool2+lrn2-->conv3-->conv4-->conv5+pool5-->fc1-->fc2-->fc3 Alexnet Model\n",
    "model = keras.models.Sequential()\n",
    "model.add(keras.layers.Conv2D(filters=96, kernel_size=(11,11),strides=4,activation='relu',padding='same',input_shape=(224,224,3)))\n",
    "model.add(keras.layers.MaxPool2D(pool_size=(3,3),strides=2))\n",
    "model.add(LRN())\n",
    "model.add(keras.layers.Conv2D(filters=256,kernel_size=(5,5),strides=1,activation='relu',padding='same'))\n",
    "model.add(keras.layers.MaxPool2D(pool_size=(3,3),strides=2))\n",
    "model.add(LRN())\n",
    "model.add(keras.layers.Conv2D(filters=384,kernel_size=(3,3),strides=1,activation='relu',padding='same'))\n",
    "model.add(keras.layers.Conv2D(filters=384,kernel_size=(3,3),strides=1,activation='relu',padding='same'))\n",
    "model.add(keras.layers.Conv2D(filters=256,kernel_size=(3,3),strides=1,activation='relu',padding='same'))\n",
    "model.add(keras.layers.MaxPool2D(pool_size=(3,3),strides=2))\n",
    "model.add(keras.layers.Flatten())\n",
    "model.add(keras.layers.Dense(4096,activation='relu'))\n",
    "model.add(keras.layers.Dropout(0.5))\n",
    "model.add(keras.layers.Dense(4096,activation='relu'))\n",
    "model.add(keras.layers.Dropout(0.5))\n",
    "model.add(keras.layers.Dense(2,activation=\"softmax\")) \n",
    "#Random gradient descent\n",
    "#sgd = keras.optimizers.SGD(lr=0.0001, decay=1e-6, momentum=0.9, nesterov=True)\n",
    "model.summary()\n",
    "# sigmoid：from_logits=True Dense(1) \n",
    "# softmax：from_logits=Falese Dense(2)"
   ]
  },
  {
   "cell_type": "code",
   "execution_count": 6,
   "id": "4843503b-c0e8-4840-847d-50175d558ed9",
   "metadata": {
    "tags": []
   },
   "outputs": [
    {
     "name": "stdout",
     "output_type": "stream",
     "text": [
      "Epoch 1/30\n",
      "75/75 [==============================] - 6s 40ms/step - loss: 0.4075 - accuracy: 0.8462 - val_loss: 0.3447 - val_accuracy: 0.8367\n",
      "Epoch 2/30\n",
      "75/75 [==============================] - 2s 32ms/step - loss: 0.3077 - accuracy: 0.8550 - val_loss: 0.2756 - val_accuracy: 0.8467\n",
      "Epoch 3/30\n",
      "75/75 [==============================] - 2s 32ms/step - loss: 0.2517 - accuracy: 0.8796 - val_loss: 0.2613 - val_accuracy: 0.8517\n",
      "Epoch 4/30\n",
      "75/75 [==============================] - 2s 32ms/step - loss: 0.2135 - accuracy: 0.8950 - val_loss: 0.2289 - val_accuracy: 0.8783\n",
      "Epoch 5/30\n",
      "75/75 [==============================] - 2s 32ms/step - loss: 0.2129 - accuracy: 0.9054 - val_loss: 0.1962 - val_accuracy: 0.9167\n",
      "Epoch 6/30\n",
      "75/75 [==============================] - 2s 32ms/step - loss: 0.1838 - accuracy: 0.9208 - val_loss: 0.2334 - val_accuracy: 0.8850\n",
      "Epoch 7/30\n",
      "75/75 [==============================] - 3s 33ms/step - loss: 0.1737 - accuracy: 0.9196 - val_loss: 0.1868 - val_accuracy: 0.9233\n",
      "Epoch 8/30\n",
      "75/75 [==============================] - 3s 33ms/step - loss: 0.1524 - accuracy: 0.9321 - val_loss: 0.1882 - val_accuracy: 0.9183\n",
      "Epoch 9/30\n",
      "75/75 [==============================] - 2s 32ms/step - loss: 0.1475 - accuracy: 0.9367 - val_loss: 0.1816 - val_accuracy: 0.9267\n",
      "Epoch 10/30\n",
      "75/75 [==============================] - 2s 32ms/step - loss: 0.1075 - accuracy: 0.9558 - val_loss: 0.1622 - val_accuracy: 0.9367\n",
      "Epoch 11/30\n",
      "75/75 [==============================] - 2s 32ms/step - loss: 0.1142 - accuracy: 0.9538 - val_loss: 0.3113 - val_accuracy: 0.9183\n",
      "Epoch 12/30\n",
      "75/75 [==============================] - 2s 32ms/step - loss: 0.1450 - accuracy: 0.9392 - val_loss: 0.2443 - val_accuracy: 0.9167\n",
      "Epoch 13/30\n",
      "75/75 [==============================] - 2s 32ms/step - loss: 0.1123 - accuracy: 0.9525 - val_loss: 0.1626 - val_accuracy: 0.9367\n",
      "Epoch 14/30\n",
      "75/75 [==============================] - 2s 32ms/step - loss: 0.0948 - accuracy: 0.9608 - val_loss: 0.2088 - val_accuracy: 0.9250\n",
      "Epoch 15/30\n",
      "75/75 [==============================] - 2s 32ms/step - loss: 0.0875 - accuracy: 0.9658 - val_loss: 0.1862 - val_accuracy: 0.9533\n",
      "Epoch 16/30\n",
      "75/75 [==============================] - 2s 32ms/step - loss: 0.0895 - accuracy: 0.9633 - val_loss: 0.1397 - val_accuracy: 0.9483\n",
      "Epoch 17/30\n",
      "75/75 [==============================] - 2s 32ms/step - loss: 0.0696 - accuracy: 0.9742 - val_loss: 0.2178 - val_accuracy: 0.9383\n",
      "Epoch 18/30\n",
      "75/75 [==============================] - 2s 33ms/step - loss: 0.0657 - accuracy: 0.9762 - val_loss: 0.2418 - val_accuracy: 0.9383\n",
      "Epoch 19/30\n",
      "75/75 [==============================] - 2s 33ms/step - loss: 0.0626 - accuracy: 0.9767 - val_loss: 0.1720 - val_accuracy: 0.9517\n",
      "Epoch 20/30\n",
      "75/75 [==============================] - 2s 33ms/step - loss: 0.0462 - accuracy: 0.9825 - val_loss: 0.1618 - val_accuracy: 0.9650\n",
      "Epoch 21/30\n",
      "75/75 [==============================] - 2s 33ms/step - loss: 0.0518 - accuracy: 0.9829 - val_loss: 0.1718 - val_accuracy: 0.9517\n",
      "Epoch 22/30\n",
      "75/75 [==============================] - 2s 33ms/step - loss: 0.0390 - accuracy: 0.9825 - val_loss: 0.1664 - val_accuracy: 0.9650\n",
      "Epoch 23/30\n",
      "75/75 [==============================] - 2s 33ms/step - loss: 0.0552 - accuracy: 0.9825 - val_loss: 0.1899 - val_accuracy: 0.9583\n",
      "Epoch 24/30\n",
      "75/75 [==============================] - 2s 33ms/step - loss: 0.0729 - accuracy: 0.9733 - val_loss: 0.1647 - val_accuracy: 0.9650\n",
      "Epoch 25/30\n",
      "75/75 [==============================] - 2s 33ms/step - loss: 0.0442 - accuracy: 0.9850 - val_loss: 0.1323 - val_accuracy: 0.9683\n",
      "Epoch 26/30\n",
      "75/75 [==============================] - 2s 33ms/step - loss: 0.0600 - accuracy: 0.9800 - val_loss: 0.1718 - val_accuracy: 0.9350\n",
      "Epoch 27/30\n",
      "75/75 [==============================] - 2s 33ms/step - loss: 0.0487 - accuracy: 0.9825 - val_loss: 0.1512 - val_accuracy: 0.9633\n",
      "Epoch 28/30\n",
      "75/75 [==============================] - 2s 33ms/step - loss: 0.0318 - accuracy: 0.9871 - val_loss: 0.2376 - val_accuracy: 0.9217\n",
      "Epoch 29/30\n",
      "75/75 [==============================] - 2s 33ms/step - loss: 0.0456 - accuracy: 0.9850 - val_loss: 0.1206 - val_accuracy: 0.9667\n",
      "Epoch 30/30\n",
      "75/75 [==============================] - 2s 33ms/step - loss: 0.0215 - accuracy: 0.9929 - val_loss: 0.2076 - val_accuracy: 0.9650\n"
     ]
    }
   ],
   "source": [
    "#complie and fit the model\n",
    "model.compile(optimizer=tf.keras.optimizers.Adam(learning_rate=INIT_LR),loss=tf.keras.losses.SparseCategoricalCrossentropy(from_logits=False),metrics=['accuracy'])\n",
    "#reduce_lr = ReduceLROnPlateau(monitor='val_loss', factor=0.1, patience=2, verbose=1,min_lr=0.00006)\n",
    "#history =model.fit(train_images, train_labels, batch_size=32, epochs=EPOCHS,validation_data=(val_images, val_labels),callbacks=[reduce_lr])\n",
    "history =model.fit(aug.flow(train_images, train_labels, batch_size=BS), epochs=EPOCHS,validation_data=(val_images, val_labels))"
   ]
  },
  {
   "cell_type": "code",
   "execution_count": 7,
   "id": "8efc5851-0fb3-483b-924c-55d1e23df452",
   "metadata": {},
   "outputs": [
    {
     "data": {
      "image/png": "[encoded data removed]",
      "text/plain": [
       "<Figure size 432x288 with 1 Axes>"
      ]
     },
     "metadata": {
      "needs_background": "light"
     },
     "output_type": "display_data"
    },
    {
     "name": "stdout",
     "output_type": "stream",
     "text": [
      "7/7 [==============================] - 0s 37ms/step - loss: 0.0814 - accuracy: 0.9700\n",
      "0.9700000286102295 0.08142131567001343\n"
     ]
    }
   ],
   "source": [
    "#plot the curse and result\n",
    "plt.plot(history.history['loss'], label='loss')\n",
    "plt.plot(history.history['val_loss'], label='val_loss')\n",
    "plt.plot(history.history['accuracy'], label='accuracy')\n",
    "plt.plot(history.history['val_accuracy'], label = 'val_accuracy')\n",
    "plt.xlabel('Epoch')\n",
    "plt.ylabel('Accuracy/Lose')\n",
    "plt.ylim([0, 1])\n",
    "plt.legend(loc='center right')\n",
    "plt.show()\n",
    "\n",
    "test_loss, test_acc = model.evaluate(test_images, test_labels, verbose=1)\n",
    "print(test_acc, test_loss)"
   ]
  }
 ],
 "metadata": {
  "kernelspec": {
   "display_name": "Python 3 (ipykernel)",
   "language": "python",
   "name": "python3"
  },
  "language_info": {
   "codemirror_mode": {
    "name": "ipython",
    "version": 3
   },
   "file_extension": ".py",
   "mimetype": "text/x-python",
   "name": "python",
   "nbconvert_exporter": "python",
   "pygments_lexer": "ipython3",
   "version": "3.8.12"
  }
 },
 "nbformat": 4,
 "nbformat_minor": 5
}
