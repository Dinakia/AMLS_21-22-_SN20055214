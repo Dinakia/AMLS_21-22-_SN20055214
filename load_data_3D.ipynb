{
 "cells": [
  {
   "cell_type": "code",
   "execution_count": 1,
   "id": "f2b52efb-cb87-45d2-9e1e-ea1da84fcc81",
   "metadata": {},
   "outputs": [],
   "source": [
    "#import packles\n",
    "import numpy as np  \n",
    "import pickle\n",
    "import pandas as pd\n",
    "from matplotlib import pyplot as plt\n",
    "import cv2\n",
    "import os"
   ]
  },
  {
   "cell_type": "code",
   "execution_count": 2,
   "id": "b6dd0ddf-a390-419f-81e0-27e908b9f628",
   "metadata": {},
   "outputs": [],
   "source": [
    "alldata_3D = [] # this if for store all of the image data\n",
    "# this function is for read image,the input is directory name\n",
    "def read_directory(directory_name):\n",
    "    for filename in os.listdir(r\"./\"+directory_name):\n",
    "        #img is used to store the image data \n",
    "        img = cv2.imread(directory_name + \"/\" + filename,cv2.IMREAD_COLOR)\n",
    "        #percent by which the image is resized\n",
    "        scale_percent = 43.75  #43.75, as result is 224X224\n",
    "        width = int(img.shape[1] * scale_percent / 100)\n",
    "        height = int(img.shape[0] * scale_percent / 100)\n",
    "        # dsize\n",
    "        dsize = (width, height)\n",
    "        # resize image\n",
    "        output = cv2.resize(img, dsize)\n",
    "        alldata_3D.append(output)\n"
   ]
  },
  {
   "cell_type": "code",
   "execution_count": 3,
   "id": "59f56b98-6a98-44ed-a31d-df93baadf60e",
   "metadata": {
    "tags": []
   },
   "outputs": [],
   "source": [
    "testdata_3D = [] # the same treatment for test set\n",
    "def read_directory_test(directory_name):\n",
    "    for filename in os.listdir(r\"./\"+directory_name):\n",
    "        img = cv2.imread(directory_name + \"/\" + filename,cv2.IMREAD_COLOR)\n",
    "        scale_percent = 43.75  #43.75\n",
    "        width = int(img.shape[1] * scale_percent / 100)\n",
    "        height = int(img.shape[0] * scale_percent / 100)\n",
    "        dsize = (width, height)\n",
    "        output = cv2.resize(img, dsize)\n",
    "        testdata_3D.append(output)"
   ]
  },
  {
   "cell_type": "code",
   "execution_count": 4,
   "id": "d8a5faeb-7eec-45aa-9142-dae84ac28971",
   "metadata": {},
   "outputs": [],
   "source": [
    "read_directory(\"dataset/image1\")\n",
    "read_directory_test(\"test/image\")"
   ]
  },
  {
   "cell_type": "code",
   "execution_count": 5,
   "id": "643f8700-6f7d-492d-a3d1-423a3e86bd62",
   "metadata": {},
   "outputs": [
    {
     "name": "stdout",
     "output_type": "stream",
     "text": [
      "(200, 224, 224, 3)\n"
     ]
    }
   ],
   "source": [
    "npdata=np.array(alldata_3D) #transform to numpy array\n",
    "npdata_test=np.array(testdata_3D)\n",
    "print(npdata_test.shape)"
   ]
  },
  {
   "cell_type": "code",
   "execution_count": 6,
   "id": "c15ac24e-a8f4-45bd-a2d6-e55d0fdbc084",
   "metadata": {},
   "outputs": [],
   "source": [
    "np.save(file=\"alldata_3D.npy\", arr=npdata) #save data\n",
    "np.save(file=\"testdata_3D.npy\", arr=npdata_test)"
   ]
  },
  {
   "cell_type": "code",
   "execution_count": 7,
   "id": "ef861d2b-cfa8-4e7a-ab7f-5973fd9f3ca9",
   "metadata": {},
   "outputs": [
    {
     "data": {
      "text/plain": [
       "(200, 224, 224, 3)"
      ]
     },
     "execution_count": 7,
     "metadata": {},
     "output_type": "execute_result"
    }
   ],
   "source": [
    "b= np.load(file=\"testdata_3D.npy\")\n",
    "b.shape"
   ]
  }
 ],
 "metadata": {
  "kernelspec": {
   "display_name": "Python 3 (ipykernel)",
   "language": "python",
   "name": "python3"
  },
  "language_info": {
   "codemirror_mode": {
    "name": "ipython",
    "version": 3
   },
   "file_extension": ".py",
   "mimetype": "text/x-python",
   "name": "python",
   "nbconvert_exporter": "python",
   "pygments_lexer": "ipython3",
   "version": "3.8.12"
  }
 },
 "nbformat": 4,
 "nbformat_minor": 5
}
