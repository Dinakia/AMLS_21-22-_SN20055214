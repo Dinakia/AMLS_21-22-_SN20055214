{
 "cells": [
  {
   "cell_type": "code",
   "execution_count": 1,
   "id": "f2b52efb-cb87-45d2-9e1e-ea1da84fcc81",
   "metadata": {},
   "outputs": [],
   "source": [
    "#import packles\n",
    "import numpy as np  \n",
    "import pickle\n",
    "import pandas as pd\n",
    "from matplotlib import pyplot as plt\n",
    "import cv2\n",
    "import os"
   ]
  },
  {
   "cell_type": "code",
   "execution_count": 2,
   "id": "8cea1212-03b9-423d-aa67-0ce784373708",
   "metadata": {},
   "outputs": [
    {
     "name": "stdout",
     "output_type": "stream",
     "text": [
      "image: [[0 0 0 ... 0 0 0]\n",
      " [0 0 0 ... 0 0 0]\n",
      " [0 0 0 ... 0 0 0]\n",
      " ...\n",
      " [0 0 0 ... 0 0 0]\n",
      " [0 0 0 ... 0 0 0]\n",
      " [0 0 0 ... 0 0 0]]\n",
      "<class 'numpy.ndarray'>\n",
      "image.shape: (512, 512)\n"
     ]
    },
    {
     "data": {
      "text/plain": [
       "-1"
      ]
     },
     "execution_count": 2,
     "metadata": {},
     "output_type": "execute_result"
    }
   ],
   "source": [
    "#读取彩色图片，忽略alpha通道\n",
    "image = cv2.imread('dataset/image/IMAGE_0000.jpg',cv2.IMREAD_GRAYSCALE)\n",
    "#打印图片\n",
    "print('image:',image)\n",
    "print(type(image))\n",
    "#打印图片维度形状\n",
    "print('image.shape:',image.shape)\n",
    "#显示图片\n",
    "cv2.imshow('image:',image)\n",
    "#防止图片关闭\n",
    "cv2.waitKey(0)\n",
    "\n"
   ]
  },
  {
   "cell_type": "code",
   "execution_count": 3,
   "id": "b6dd0ddf-a390-419f-81e0-27e908b9f628",
   "metadata": {},
   "outputs": [],
   "source": [
    "alldata = [] # this if for store all of the image data\n",
    "# this function is for read image,the input is directory name\n",
    "def read_directory(directory_name):\n",
    "    # this loop is for read each image in this foder,directory_name is the foder name with images.\n",
    "    for filename in os.listdir(r\"./\"+directory_name):\n",
    "        print(filename) #just for test\n",
    "        #img is used to store the image data \n",
    "        img = cv2.imread(directory_name + \"/\" + filename,cv2.IMREAD_GRAYSCALE)\n",
    "        alldata.append(img)\n",
    "        #print(img)\n",
    "        #print(alldata)\n"
   ]
  },
  {
   "cell_type": "code",
   "execution_count": 4,
   "id": "d8a5faeb-7eec-45aa-9142-dae84ac28971",
   "metadata": {},
   "outputs": [
    {
     "name": "stdout",
     "output_type": "stream",
     "text": [
      "IMAGE_0000.jpg\n",
      "IMAGE_0001.jpg\n",
      "IMAGE_0002.jpg\n",
      "IMAGE_0003.jpg\n",
      "IMAGE_0004.jpg\n",
      "IMAGE_0005.jpg\n",
      "IMAGE_0006.jpg\n",
      "IMAGE_0007.jpg\n",
      "IMAGE_0008.jpg\n",
      "IMAGE_0009.jpg\n",
      "<class 'list'>\n"
     ]
    }
   ],
   "source": [
    "read_directory(\"dataset/image1\")\n",
    "print(type(alldata))\n",
    "#alldata=np.array(alldata)\n",
    "#alldata.shape"
   ]
  },
  {
   "cell_type": "code",
   "execution_count": 5,
   "id": "643f8700-6f7d-492d-a3d1-423a3e86bd62",
   "metadata": {},
   "outputs": [
    {
     "name": "stdout",
     "output_type": "stream",
     "text": [
      "(10, 512, 512)\n",
      "[[[  0   0   0 ...   0   0   0]\n",
      "  [  0   0   0 ...   0   0   0]\n",
      "  [  0   0   0 ...   0   0   0]\n",
      "  ...\n",
      "  [  0   0   0 ...   0   0   0]\n",
      "  [  0   0   0 ...   0   0   0]\n",
      "  [  0   0   0 ...   0   0   0]]\n",
      "\n",
      " [[ 35  36  37 ...  56 100 122]\n",
      "  [ 28  28  29 ...  51  93 114]\n",
      "  [ 14  15  15 ...  39  80 100]\n",
      "  ...\n",
      "  [  2   2   3 ...  30  72  93]\n",
      "  [  2   3   3 ...  30  73  94]\n",
      "  [  2   3   3 ...  30  74  95]]\n",
      "\n",
      " [[ 21  12   2 ...   0   0   0]\n",
      "  [ 20  14   6 ...   0   0   0]\n",
      "  [ 18  14   7 ...   0   0   0]\n",
      "  ...\n",
      "  [  1   1   1 ...   1   1   1]\n",
      "  [  1   1   1 ...   1   1   1]\n",
      "  [  2   2   2 ...   2   2   2]]\n",
      "\n",
      " ...\n",
      "\n",
      " [[  0   0   0 ...   1   1   1]\n",
      "  [  0   0   0 ...   1   1   1]\n",
      "  [  0   0   0 ...   1   1   1]\n",
      "  ...\n",
      "  [  0   0   0 ...   1   1   1]\n",
      "  [  0   0   0 ...   1   1   1]\n",
      "  [  0   0   0 ...   1   1   1]]\n",
      "\n",
      " [[101 100  96 ... 138 193 234]\n",
      "  [101 100  96 ... 205 228 245]\n",
      "  [102 100  96 ... 237 251 255]\n",
      "  ...\n",
      "  [  7   7   7 ...   7   7   7]\n",
      "  [  7   7   7 ...   7   7   7]\n",
      "  [  7   7   7 ...   7   7   7]]\n",
      "\n",
      " [[  0   0   0 ...   0   0   0]\n",
      "  [  0   0   0 ...   0   0   0]\n",
      "  [  0   0   0 ...   0   0   0]\n",
      "  ...\n",
      "  [  0   0   0 ...   0   0   0]\n",
      "  [  0   0   0 ...   0   0   0]\n",
      "  [  0   0   0 ...   0   0   0]]]\n"
     ]
    }
   ],
   "source": [
    "a=np.array(alldata)\n",
    "print(a.shape)\n",
    "print(a)"
   ]
  },
  {
   "cell_type": "code",
   "execution_count": 8,
   "id": "c15ac24e-a8f4-45bd-a2d6-e55d0fdbc084",
   "metadata": {},
   "outputs": [],
   "source": [
    "np.save(file=\"alldata.npy\", arr=a)"
   ]
  },
  {
   "cell_type": "code",
   "execution_count": 12,
   "id": "ef861d2b-cfa8-4e7a-ab7f-5973fd9f3ca9",
   "metadata": {},
   "outputs": [
    {
     "data": {
      "text/plain": [
       "(10, 512, 512)"
      ]
     },
     "execution_count": 12,
     "metadata": {},
     "output_type": "execute_result"
    }
   ],
   "source": [
    "b= np.load(file=\"alldata.npy\")\n",
    "b.shape"
   ]
  },
  {
   "cell_type": "code",
   "execution_count": 6,
   "id": "9c7578ca-e87f-4fd6-ac70-dc43814d047b",
   "metadata": {},
   "outputs": [],
   "source": [
    "#file = open('alldata.txt','w');\n",
    "\n",
    "#file.write(str(alldata));\n",
    "\n",
    "#file.close();"
   ]
  }
 ],
 "metadata": {
  "kernelspec": {
   "display_name": "Python 3 (ipykernel)",
   "language": "python",
   "name": "python3"
  },
  "language_info": {
   "codemirror_mode": {
    "name": "ipython",
    "version": 3
   },
   "file_extension": ".py",
   "mimetype": "text/x-python",
   "name": "python",
   "nbconvert_exporter": "python",
   "pygments_lexer": "ipython3",
   "version": "3.8.12"
  }
 },
 "nbformat": 4,
 "nbformat_minor": 5
}
