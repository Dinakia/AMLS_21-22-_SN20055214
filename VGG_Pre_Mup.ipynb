{
 "cells": [
  {
   "cell_type": "code",
   "execution_count": 1,
   "id": "aaefec87-0103-4509-bee5-52691e148d3b",
   "metadata": {},
   "outputs": [],
   "source": [
    "# import libraries\n",
    "import matplotlib.pyplot as plt\n",
    "import numpy as np\n",
    "import os\n",
    "import PIL\n",
    "import tensorflow as tf\n",
    "import pandas as pd\n",
    "import cv2\n",
    "import json\n",
    "\n",
    "from tensorflow import keras\n",
    "from tensorflow.keras import layers, models\n",
    "from tensorflow.keras.models import Sequential\n",
    "from sklearn.model_selection import train_test_split\n",
    "from tensorflow.keras.preprocessing.image import ImageDataGenerator\n",
    "from tensorflow.keras.callbacks import ReduceLROnPlateau,EarlyStopping"
   ]
  },
  {
   "cell_type": "code",
   "execution_count": 2,
   "id": "5896db2e-19a9-4ac8-8230-2ad36b908c3b",
   "metadata": {
    "tags": []
   },
   "outputs": [],
   "source": [
    "# load data\n",
    "all_data= np.load(file=\"alldata_3D.npy\")\n",
    "all_lables=pd.read_csv('label.csv')\n",
    "test_images=np.load(file='testdata_3D.npy')\n",
    "test_lables=pd.read_csv('test_label.csv')\n",
    "\n",
    "# create label multiclassification array \n",
    "labels=[]\n",
    "test_labels=[]\n",
    "for i in range(3000):\n",
    "    data = all_lables['label'][i]\n",
    "    if data == 'no_tumor':\n",
    "        #label.append(data)\n",
    "        labels.append(0)\n",
    "    elif data == 'meningioma_tumor':\n",
    "        #label.append('meningioma_tumor')\n",
    "        labels.append(1)\n",
    "    elif data == 'glioma_tumor':\n",
    "        #label.append('glioma_tumor')\n",
    "        labels.append(2)\n",
    "    elif data == 'pituitary_tumor':\n",
    "        #label.append('pituitary_tumor')\n",
    "        labels.append(3)\n",
    "\n",
    "for i in range(200):\n",
    "    data = test_lables['label'][i]\n",
    "    if data == 'no_tumor':\n",
    "        #label.append(data)\n",
    "        test_labels.append(0)\n",
    "    elif data == 'meningioma_tumor':\n",
    "        #label.append('meningioma_tumor')\n",
    "        test_labels.append(1)\n",
    "    elif data == 'glioma_tumor':\n",
    "        #label.append('glioma_tumor')\n",
    "        test_labels.append(2)\n",
    "    elif data == 'pituitary_tumor':\n",
    "        #label.append('pituitary_tumor')\n",
    "        test_labels.append(3)\n",
    "        \n",
    "labels = np.array(labels)\n",
    "test_labels =np.array(test_labels)"
   ]
  },
  {
   "cell_type": "code",
   "execution_count": 3,
   "id": "b1ff8dba-3014-4771-8813-c8d03555525d",
   "metadata": {},
   "outputs": [],
   "source": [
    "# Normalize the pixel value into a floating-point number between 0 and 1.\n",
    "all_data = np.array(all_data, dtype=\"float\") / 255.0 \n",
    "test_images= np.array(test_images, dtype=\"float\") / 255.0\n",
    "\n",
    "# Direct adjustment of hyperparameter\n",
    "INIT_LR = 0.001\n",
    "EPOCHS = 50\n",
    "BS = 16\n",
    "\n",
    "# Divided into training set and verification set according to 8: 2\n",
    "train_images,val_images,train_labels,val_labels=train_test_split(all_data,labels,test_size=0.2,random_state=0)"
   ]
  },
  {
   "cell_type": "code",
   "execution_count": 4,
   "id": "a69ce358-6be9-4db9-a053-66436966c15f",
   "metadata": {
    "tags": []
   },
   "outputs": [],
   "source": [
    "#Data Augmentation\n",
    "aug=train_image_generator = keras.preprocessing.image.ImageDataGenerator(rotation_range=40,\n",
    "                                            height_shift_range=0.2,\n",
    "                                            zoom_range=0.2,\n",
    "                                            horizontal_flip=True,\n",
    "                                            fill_mode='nearest')"
   ]
  },
  {
   "cell_type": "code",
   "execution_count": 5,
   "id": "00832817-3467-4ff3-b821-7027d9fa865f",
   "metadata": {},
   "outputs": [
    {
     "name": "stdout",
     "output_type": "stream",
     "text": [
      "Model: \"sequential\"\n",
      "_________________________________________________________________\n",
      "Layer (type)                 Output Shape              Param #   \n",
      "=================================================================\n",
      "vgg16 (Functional)           (None, 512)               14714688  \n",
      "_________________________________________________________________\n",
      "dense (Dense)                (None, 256)               131328    \n",
      "_________________________________________________________________\n",
      "dropout (Dropout)            (None, 256)               0         \n",
      "_________________________________________________________________\n",
      "dense_1 (Dense)              (None, 4)                 1028      \n",
      "=================================================================\n",
      "Total params: 14,847,044\n",
      "Trainable params: 4,851,972\n",
      "Non-trainable params: 9,995,072\n",
      "_________________________________________________________________\n"
     ]
    }
   ],
   "source": [
    "#Call the pre-training VGG16 model\n",
    "covn_base = tf.keras.applications.vgg16.VGG16(include_top=False, weights='imagenet',input_shape=(224,224,3), pooling='avg')\n",
    "\n",
    "#forzen the last layers \n",
    "for layer in covn_base.layers[:-4]:\n",
    "    layer.trainable=False\n",
    "\n",
    "#Build a model，use keras function\n",
    "model = tf.keras.Sequential()\n",
    "model.add(covn_base)\n",
    "#model.add(tf.keras.layers.GlobalAveragePooling2D()) \n",
    "#model.add(tf.keras.layers.Dense(units=200,input_dim=784,activation='tanh',kernel_regularizer=l2(0.01)))\n",
    "model.add(tf.keras.layers.Dense(256, activation='relu'))\n",
    "model.add(tf.keras.layers.Dropout(0.5))\n",
    "model.add(tf.keras.layers.Dense(4, activation='softmax'))\n",
    "model.summary()\n"
   ]
  },
  {
   "cell_type": "code",
   "execution_count": 6,
   "id": "4843503b-c0e8-4840-847d-50175d558ed9",
   "metadata": {
    "tags": []
   },
   "outputs": [
    {
     "name": "stdout",
     "output_type": "stream",
     "text": [
      "Epoch 1/50\n",
      "150/150 [==============================] - 29s 157ms/step - loss: 1.3033 - accuracy: 0.3517 - val_loss: 1.1189 - val_accuracy: 0.5083\n",
      "Epoch 2/50\n",
      "150/150 [==============================] - 16s 107ms/step - loss: 0.9663 - accuracy: 0.5775 - val_loss: 0.8474 - val_accuracy: 0.6617\n",
      "Epoch 3/50\n",
      "150/150 [==============================] - 16s 108ms/step - loss: 0.7379 - accuracy: 0.7146 - val_loss: 0.5996 - val_accuracy: 0.7550\n",
      "Epoch 4/50\n",
      "150/150 [==============================] - 16s 109ms/step - loss: 0.5764 - accuracy: 0.7808 - val_loss: 0.6363 - val_accuracy: 0.7583\n",
      "Epoch 5/50\n",
      "150/150 [==============================] - 16s 106ms/step - loss: 0.4934 - accuracy: 0.8238 - val_loss: 0.4614 - val_accuracy: 0.8300\n",
      "Epoch 6/50\n",
      "150/150 [==============================] - 16s 108ms/step - loss: 0.4082 - accuracy: 0.8558 - val_loss: 0.4071 - val_accuracy: 0.8400\n",
      "Epoch 7/50\n",
      "150/150 [==============================] - 16s 109ms/step - loss: 0.3627 - accuracy: 0.8667 - val_loss: 0.5394 - val_accuracy: 0.8183\n",
      "Epoch 8/50\n",
      "150/150 [==============================] - 16s 106ms/step - loss: 0.3454 - accuracy: 0.8746 - val_loss: 0.4039 - val_accuracy: 0.8550\n",
      "Epoch 9/50\n",
      "150/150 [==============================] - 16s 105ms/step - loss: 0.3019 - accuracy: 0.8896 - val_loss: 0.4222 - val_accuracy: 0.8433\n",
      "Epoch 10/50\n",
      "150/150 [==============================] - 16s 107ms/step - loss: 0.3117 - accuracy: 0.8867 - val_loss: 0.3490 - val_accuracy: 0.8933\n",
      "Epoch 11/50\n",
      "150/150 [==============================] - 16s 107ms/step - loss: 0.2647 - accuracy: 0.9054 - val_loss: 0.3768 - val_accuracy: 0.8667\n",
      "Epoch 12/50\n",
      "150/150 [==============================] - 16s 106ms/step - loss: 0.2702 - accuracy: 0.9025 - val_loss: 0.3939 - val_accuracy: 0.8783\n",
      "\n",
      "Epoch 00012: ReduceLROnPlateau reducing learning rate to 0.00010000000474974513.\n",
      "Epoch 13/50\n",
      "150/150 [==============================] - 16s 106ms/step - loss: 0.1761 - accuracy: 0.9312 - val_loss: 0.3093 - val_accuracy: 0.8950\n",
      "Epoch 14/50\n",
      "150/150 [==============================] - 16s 108ms/step - loss: 0.1631 - accuracy: 0.9400 - val_loss: 0.3067 - val_accuracy: 0.8983\n",
      "Epoch 15/50\n",
      "150/150 [==============================] - 16s 107ms/step - loss: 0.1537 - accuracy: 0.9429 - val_loss: 0.2957 - val_accuracy: 0.9017\n",
      "Epoch 16/50\n",
      "150/150 [==============================] - 16s 109ms/step - loss: 0.1438 - accuracy: 0.9438 - val_loss: 0.3198 - val_accuracy: 0.9000\n",
      "Epoch 17/50\n",
      "150/150 [==============================] - 16s 108ms/step - loss: 0.1548 - accuracy: 0.9467 - val_loss: 0.3158 - val_accuracy: 0.8983\n",
      "\n",
      "Epoch 00017: ReduceLROnPlateau reducing learning rate to 1.0000000474974514e-05.\n",
      "Epoch 18/50\n",
      "150/150 [==============================] - 16s 107ms/step - loss: 0.1380 - accuracy: 0.9542 - val_loss: 0.2999 - val_accuracy: 0.8933\n",
      "Epoch 19/50\n",
      "150/150 [==============================] - 16s 108ms/step - loss: 0.1392 - accuracy: 0.9513 - val_loss: 0.3030 - val_accuracy: 0.8967\n",
      "\n",
      "Epoch 00019: ReduceLROnPlateau reducing learning rate to 1e-05.\n",
      "Epoch 20/50\n",
      "150/150 [==============================] - 17s 110ms/step - loss: 0.1325 - accuracy: 0.9546 - val_loss: 0.2936 - val_accuracy: 0.8933\n",
      "Epoch 21/50\n",
      "150/150 [==============================] - 16s 108ms/step - loss: 0.1373 - accuracy: 0.9508 - val_loss: 0.2921 - val_accuracy: 0.8967\n",
      "Epoch 22/50\n",
      "150/150 [==============================] - 16s 108ms/step - loss: 0.1254 - accuracy: 0.9592 - val_loss: 0.3026 - val_accuracy: 0.8967\n",
      "Epoch 23/50\n",
      "150/150 [==============================] - 16s 109ms/step - loss: 0.1372 - accuracy: 0.9525 - val_loss: 0.2940 - val_accuracy: 0.8967\n",
      "Epoch 24/50\n",
      "150/150 [==============================] - 17s 110ms/step - loss: 0.1345 - accuracy: 0.9525 - val_loss: 0.2979 - val_accuracy: 0.8933\n",
      "Epoch 25/50\n",
      "150/150 [==============================] - 16s 106ms/step - loss: 0.1368 - accuracy: 0.9517 - val_loss: 0.2971 - val_accuracy: 0.8933\n",
      "Epoch 26/50\n",
      "150/150 [==============================] - 16s 106ms/step - loss: 0.1273 - accuracy: 0.9521 - val_loss: 0.3007 - val_accuracy: 0.9017\n",
      "Epoch 27/50\n",
      "150/150 [==============================] - 16s 106ms/step - loss: 0.1371 - accuracy: 0.9529 - val_loss: 0.3003 - val_accuracy: 0.8950\n",
      "Epoch 28/50\n",
      "150/150 [==============================] - 16s 107ms/step - loss: 0.1285 - accuracy: 0.9550 - val_loss: 0.3008 - val_accuracy: 0.8950\n",
      "Epoch 29/50\n",
      "150/150 [==============================] - 16s 107ms/step - loss: 0.1356 - accuracy: 0.9517 - val_loss: 0.3019 - val_accuracy: 0.8967\n",
      "Epoch 30/50\n",
      "150/150 [==============================] - 16s 108ms/step - loss: 0.1266 - accuracy: 0.9554 - val_loss: 0.3094 - val_accuracy: 0.8917\n",
      "Epoch 31/50\n",
      "150/150 [==============================] - 16s 108ms/step - loss: 0.1251 - accuracy: 0.9533 - val_loss: 0.3019 - val_accuracy: 0.8983\n",
      "Epoch 32/50\n",
      "150/150 [==============================] - 16s 109ms/step - loss: 0.1182 - accuracy: 0.9538 - val_loss: 0.3004 - val_accuracy: 0.9000\n",
      "Epoch 33/50\n",
      "150/150 [==============================] - 16s 109ms/step - loss: 0.1260 - accuracy: 0.9521 - val_loss: 0.3027 - val_accuracy: 0.9000\n",
      "Epoch 34/50\n",
      "150/150 [==============================] - 16s 109ms/step - loss: 0.1263 - accuracy: 0.9542 - val_loss: 0.2991 - val_accuracy: 0.8983\n",
      "Epoch 35/50\n",
      "150/150 [==============================] - 16s 107ms/step - loss: 0.1290 - accuracy: 0.9513 - val_loss: 0.3034 - val_accuracy: 0.9000\n",
      "Epoch 36/50\n",
      "150/150 [==============================] - 16s 107ms/step - loss: 0.1283 - accuracy: 0.9588 - val_loss: 0.2989 - val_accuracy: 0.9017\n",
      "Epoch 37/50\n",
      "150/150 [==============================] - 16s 106ms/step - loss: 0.1353 - accuracy: 0.9558 - val_loss: 0.3056 - val_accuracy: 0.9033\n",
      "Epoch 38/50\n",
      "150/150 [==============================] - 16s 107ms/step - loss: 0.1221 - accuracy: 0.9550 - val_loss: 0.3051 - val_accuracy: 0.9000\n",
      "Epoch 39/50\n",
      "150/150 [==============================] - 16s 108ms/step - loss: 0.1151 - accuracy: 0.9608 - val_loss: 0.3095 - val_accuracy: 0.9000\n",
      "Epoch 40/50\n",
      "150/150 [==============================] - 16s 107ms/step - loss: 0.1318 - accuracy: 0.9550 - val_loss: 0.3117 - val_accuracy: 0.8983\n",
      "Epoch 41/50\n",
      "150/150 [==============================] - 16s 107ms/step - loss: 0.1179 - accuracy: 0.9592 - val_loss: 0.3107 - val_accuracy: 0.8983\n",
      "Epoch 42/50\n",
      "150/150 [==============================] - 16s 107ms/step - loss: 0.1185 - accuracy: 0.9579 - val_loss: 0.3139 - val_accuracy: 0.9017\n",
      "Epoch 43/50\n",
      "150/150 [==============================] - 16s 107ms/step - loss: 0.1219 - accuracy: 0.9588 - val_loss: 0.3136 - val_accuracy: 0.8983\n",
      "Epoch 44/50\n",
      "150/150 [==============================] - 16s 107ms/step - loss: 0.1116 - accuracy: 0.9579 - val_loss: 0.3214 - val_accuracy: 0.8967\n",
      "Epoch 45/50\n",
      "150/150 [==============================] - 16s 107ms/step - loss: 0.1283 - accuracy: 0.9517 - val_loss: 0.3141 - val_accuracy: 0.9017\n",
      "Epoch 46/50\n",
      "150/150 [==============================] - 16s 107ms/step - loss: 0.1136 - accuracy: 0.9554 - val_loss: 0.3051 - val_accuracy: 0.9050\n",
      "Epoch 47/50\n",
      "150/150 [==============================] - 16s 107ms/step - loss: 0.1329 - accuracy: 0.9563 - val_loss: 0.3078 - val_accuracy: 0.9033\n",
      "Epoch 48/50\n",
      "150/150 [==============================] - 16s 107ms/step - loss: 0.1182 - accuracy: 0.9554 - val_loss: 0.3142 - val_accuracy: 0.9017\n",
      "Epoch 49/50\n",
      "150/150 [==============================] - 16s 108ms/step - loss: 0.1193 - accuracy: 0.9592 - val_loss: 0.3122 - val_accuracy: 0.9017\n",
      "Epoch 50/50\n",
      "150/150 [==============================] - 16s 107ms/step - loss: 0.1249 - accuracy: 0.9579 - val_loss: 0.3094 - val_accuracy: 0.9017\n"
     ]
    }
   ],
   "source": [
    "#complie and fit model\n",
    "model.compile(optimizer=tf.keras.optimizers.Adam(learning_rate=INIT_LR), loss=tf.keras.losses.SparseCategoricalCrossentropy(from_logits=False),metrics=['accuracy'])\n",
    "\n",
    "#reduce the learning rate when the val_loss doesn't decrease\n",
    "reduce_lr = ReduceLROnPlateau(monitor='val_loss', factor=0.1, patience=2, verbose=1,min_lr=0.01*INIT_LR)\n",
    "history =model.fit(aug.flow(train_images, train_labels, batch_size=BS), epochs=EPOCHS,validation_data=(val_images, val_labels),callbacks=[reduce_lr])"
   ]
  },
  {
   "cell_type": "code",
   "execution_count": 7,
   "id": "35ef8cd0-c14f-499b-a44d-3a453a79c3df",
   "metadata": {},
   "outputs": [
    {
     "data": {
      "image/png": "[encoded data removed]",
      "text/plain": [
       "<Figure size 432x288 with 1 Axes>"
      ]
     },
     "metadata": {
      "needs_background": "light"
     },
     "output_type": "display_data"
    },
    {
     "name": "stdout",
     "output_type": "stream",
     "text": [
      "7/7 [==============================] - 2s 260ms/step - loss: 0.2946 - accuracy: 0.9100\n",
      "0.9100000262260437 0.2945530116558075\n"
     ]
    }
   ],
   "source": [
    "#plot the curse and result\n",
    "plt.plot(history.history['loss'], label='loss')\n",
    "plt.plot(history.history['val_loss'], label='val_loss')\n",
    "plt.plot(history.history['accuracy'], label='accuracy')\n",
    "plt.plot(history.history['val_accuracy'], label = 'val_accuracy')\n",
    "plt.xlabel('Epoch')\n",
    "plt.ylabel('Accuracy/Lose')\n",
    "plt.ylim([0, 2])\n",
    "plt.legend(loc='upper right')\n",
    "plt.show()\n",
    "\n",
    "test_loss, test_acc = model.evaluate(test_images, test_labels, verbose=1)\n",
    "print(test_acc, test_loss)"
   ]
  },
  {
   "cell_type": "code",
   "execution_count": null,
   "id": "ab7b23ba-33ff-4e41-b5b1-de251fa6c586",
   "metadata": {},
   "outputs": [],
   "source": []
  }
 ],
 "metadata": {
  "kernelspec": {
   "display_name": "Python 3 (ipykernel)",
   "language": "python",
   "name": "python3"
  },
  "language_info": {
   "codemirror_mode": {
    "name": "ipython",
    "version": 3
   },
   "file_extension": ".py",
   "mimetype": "text/x-python",
   "name": "python",
   "nbconvert_exporter": "python",
   "pygments_lexer": "ipython3",
   "version": "3.8.12"
  }
 },
 "nbformat": 4,
 "nbformat_minor": 5
}
